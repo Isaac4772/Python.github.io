{
 "cells": [
  {
   "cell_type": "code",
   "execution_count": 1,
   "id": "7f1e1983",
   "metadata": {},
   "outputs": [],
   "source": [
    "temps = {'Osio':13, 'London':14.7,\"Paris\":15.2}"
   ]
  },
  {
   "cell_type": "code",
   "execution_count": 3,
   "id": "2eaaa7ea",
   "metadata": {},
   "outputs": [
    {
     "data": {
      "text/plain": [
       "dict"
      ]
     },
     "execution_count": 3,
     "metadata": {},
     "output_type": "execute_result"
    }
   ],
   "source": [
    "type(temps)"
   ]
  },
  {
   "cell_type": "code",
   "execution_count": 7,
   "id": "e427e68b",
   "metadata": {},
   "outputs": [
    {
     "name": "stdout",
     "output_type": "stream",
     "text": [
      "Temperature in Osio is: 13\n"
     ]
    }
   ],
   "source": [
    "print(\"Temperature in Osio is:\",temps['Osio'])"
   ]
  },
  {
   "cell_type": "code",
   "execution_count": 8,
   "id": "705fd0b3",
   "metadata": {},
   "outputs": [
    {
     "name": "stdout",
     "output_type": "stream",
     "text": [
      "Temperature in Osio is: 14.7\n"
     ]
    }
   ],
   "source": [
    "print(\"Temperature in Osio is:\",temps['London'])"
   ]
  },
  {
   "cell_type": "code",
   "execution_count": 9,
   "id": "d17f1941",
   "metadata": {},
   "outputs": [
    {
     "data": {
      "text/plain": [
       "dict_keys(['Osio', 'London', 'Paris'])"
      ]
     },
     "execution_count": 9,
     "metadata": {},
     "output_type": "execute_result"
    }
   ],
   "source": [
    "temps.keys()"
   ]
  },
  {
   "cell_type": "code",
   "execution_count": 10,
   "id": "b864a92b",
   "metadata": {},
   "outputs": [
    {
     "data": {
      "text/plain": [
       "dict_values([13, 14.7, 15.2])"
      ]
     },
     "execution_count": 10,
     "metadata": {},
     "output_type": "execute_result"
    }
   ],
   "source": [
    "temps.values()"
   ]
  },
  {
   "cell_type": "code",
   "execution_count": 11,
   "id": "1cddacfb",
   "metadata": {},
   "outputs": [
    {
     "data": {
      "text/plain": [
       "{'Osio': 13, 'London': 14.7, 'Paris': 15.2}"
      ]
     },
     "execution_count": 11,
     "metadata": {},
     "output_type": "execute_result"
    }
   ],
   "source": [
    "temps"
   ]
  },
  {
   "cell_type": "code",
   "execution_count": 14,
   "id": "6c153e42",
   "metadata": {},
   "outputs": [],
   "source": [
    "temps['Osio'] = 15.5"
   ]
  },
  {
   "cell_type": "code",
   "execution_count": 15,
   "id": "e0ce8584",
   "metadata": {},
   "outputs": [
    {
     "data": {
      "text/plain": [
       "{'Osio': 15.5, 'London': 14.7, 'Paris': 15.2, 'Oslo': 15.5}"
      ]
     },
     "execution_count": 15,
     "metadata": {},
     "output_type": "execute_result"
    }
   ],
   "source": [
    "temps"
   ]
  },
  {
   "cell_type": "code",
   "execution_count": 17,
   "id": "956615bb",
   "metadata": {},
   "outputs": [],
   "source": [
    "temps['Yangon'] = 30"
   ]
  },
  {
   "cell_type": "code",
   "execution_count": 18,
   "id": "9c023301",
   "metadata": {},
   "outputs": [],
   "source": [
    "del temps['Yangon']"
   ]
  },
  {
   "cell_type": "code",
   "execution_count": 19,
   "id": "d7b53985",
   "metadata": {},
   "outputs": [
    {
     "data": {
      "text/plain": [
       "{'Osio': 15.5, 'London': 14.7, 'Paris': 15.2, 'Oslo': 15.5}"
      ]
     },
     "execution_count": 19,
     "metadata": {},
     "output_type": "execute_result"
    }
   ],
   "source": [
    "temps"
   ]
  },
  {
   "cell_type": "code",
   "execution_count": 20,
   "id": "8ec4d9c7",
   "metadata": {},
   "outputs": [
    {
     "name": "stdout",
     "output_type": "stream",
     "text": [
      "15.5\n",
      "14.7\n",
      "15.2\n",
      "15.5\n"
     ]
    }
   ],
   "source": [
    "for key in temps:\n",
    "    print(temps[key])"
   ]
  },
  {
   "cell_type": "code",
   "execution_count": 22,
   "id": "a95a5be4",
   "metadata": {},
   "outputs": [
    {
     "name": "stdout",
     "output_type": "stream",
     "text": [
      "Total Temperature 60.9\n"
     ]
    }
   ],
   "source": [
    "sum = 0\n",
    "for city in temps:\n",
    "    value = float(temps[city])\n",
    "    sum += temps[city]\n",
    "print('Total Temperature',sum)"
   ]
  },
  {
   "cell_type": "code",
   "execution_count": 24,
   "id": "a7fa57fa",
   "metadata": {},
   "outputs": [
    {
     "name": "stdout",
     "output_type": "stream",
     "text": [
      "London has 14.70 degrees\n",
      "Osio has 15.50 degrees\n",
      "Oslo has 15.50 degrees\n",
      "Paris has 15.20 degrees\n"
     ]
    }
   ],
   "source": [
    "for city in sorted(temps):\n",
    "    print(\"%s has %.2f degrees\"%(city,temps[city]))"
   ]
  },
  {
   "cell_type": "code",
   "execution_count": 28,
   "id": "220c0fd4",
   "metadata": {},
   "outputs": [
    {
     "name": "stdout",
     "output_type": "stream",
     "text": [
      "Oslo 15.5\n"
     ]
    }
   ],
   "source": [
    "if 'Oslo' in temps:\n",
    "    print('Oslo', temps['Oslo'])\n",
    "else:\n",
    "    print('Oslo is not in the dictionary')"
   ]
  },
  {
   "cell_type": "code",
   "execution_count": 29,
   "id": "6edca48f",
   "metadata": {},
   "outputs": [
    {
     "name": "stdout",
     "output_type": "stream",
     "text": [
      "{'Osio': 15.5, 'London': 14.7, 'Paris': 15.2, 'Oslo': 15.5}\n"
     ]
    }
   ],
   "source": [
    "t1 = temps\n",
    "print(t1)"
   ]
  },
  {
   "cell_type": "code",
   "execution_count": 30,
   "id": "8db20ccb",
   "metadata": {},
   "outputs": [],
   "source": [
    "t1['Yangon'] = 30"
   ]
  },
  {
   "cell_type": "code",
   "execution_count": 31,
   "id": "d0499dc5",
   "metadata": {},
   "outputs": [],
   "source": [
    "t2 = temps.copy()"
   ]
  },
  {
   "cell_type": "code",
   "execution_count": 32,
   "id": "aaba8f20",
   "metadata": {},
   "outputs": [
    {
     "data": {
      "text/plain": [
       "{'Osio': 15.5, 'London': 14.7, 'Paris': 15.2, 'Oslo': 15.5, 'Yangon': 30}"
      ]
     },
     "execution_count": 32,
     "metadata": {},
     "output_type": "execute_result"
    }
   ],
   "source": [
    "t2"
   ]
  },
  {
   "cell_type": "markdown",
   "id": "28a9bb37",
   "metadata": {},
   "source": [
    "# Pollynomial Respreseted by Dictionries"
   ]
  },
  {
   "cell_type": "code",
   "execution_count": 33,
   "id": "d9094fb6",
   "metadata": {},
   "outputs": [],
   "source": [
    "p = {0: -1, 2: 1, 7: 3}\n",
    "def eval_poly_dict(poly,x):\n",
    "    sum = 0.0\n",
    "    for power in poly:\n",
    "        sum += poly[power]*x**power\n",
    "    return sum"
   ]
  },
  {
   "cell_type": "code",
   "execution_count": 34,
   "id": "377a878e",
   "metadata": {},
   "outputs": [
    {
     "name": "stdout",
     "output_type": "stream",
     "text": [
      "387.0\n"
     ]
    }
   ],
   "source": [
    "print(eval_poly_dict(p,2))"
   ]
  },
  {
   "cell_type": "code",
   "execution_count": 45,
   "id": "283cde15",
   "metadata": {},
   "outputs": [],
   "source": [
    "def eval_poly_dict2(poly,x):\n",
    "    return sum(poly[power]*x**power for power in poly)"
   ]
  },
  {
   "cell_type": "code",
   "execution_count": 46,
   "id": "eecc683a",
   "metadata": {},
   "outputs": [],
   "source": [
    "poly = [-1,0,1,0,0,0,0,3]"
   ]
  },
  {
   "cell_type": "code",
   "execution_count": 47,
   "id": "65fd47bb",
   "metadata": {},
   "outputs": [
    {
     "ename": "TypeError",
     "evalue": "'float' object is not callable",
     "output_type": "error",
     "traceback": [
      "\u001b[1;31m---------------------------------------------------------------------------\u001b[0m",
      "\u001b[1;31mTypeError\u001b[0m                                 Traceback (most recent call last)",
      "\u001b[1;32m<ipython-input-47-937e9aad9430>\u001b[0m in \u001b[0;36m<module>\u001b[1;34m\u001b[0m\n\u001b[1;32m----> 1\u001b[1;33m \u001b[0mprint\u001b[0m\u001b[1;33m(\u001b[0m\u001b[0meval_poly_dict2\u001b[0m\u001b[1;33m(\u001b[0m\u001b[0mpoly\u001b[0m\u001b[1;33m,\u001b[0m\u001b[1;36m2\u001b[0m\u001b[1;33m)\u001b[0m\u001b[1;33m)\u001b[0m\u001b[1;33m\u001b[0m\u001b[1;33m\u001b[0m\u001b[0m\n\u001b[0m",
      "\u001b[1;32m<ipython-input-45-7bcd1ccd252a>\u001b[0m in \u001b[0;36meval_poly_dict2\u001b[1;34m(poly, x)\u001b[0m\n\u001b[0;32m      1\u001b[0m \u001b[1;32mdef\u001b[0m \u001b[0meval_poly_dict2\u001b[0m\u001b[1;33m(\u001b[0m\u001b[0mpoly\u001b[0m\u001b[1;33m,\u001b[0m\u001b[0mx\u001b[0m\u001b[1;33m)\u001b[0m\u001b[1;33m:\u001b[0m\u001b[1;33m\u001b[0m\u001b[1;33m\u001b[0m\u001b[0m\n\u001b[1;32m----> 2\u001b[1;33m     \u001b[1;32mreturn\u001b[0m \u001b[0msum\u001b[0m\u001b[1;33m(\u001b[0m\u001b[0mpoly\u001b[0m\u001b[1;33m[\u001b[0m\u001b[0mpower\u001b[0m\u001b[1;33m]\u001b[0m\u001b[1;33m*\u001b[0m\u001b[0mx\u001b[0m\u001b[1;33m**\u001b[0m\u001b[0mpower\u001b[0m \u001b[1;32mfor\u001b[0m \u001b[0mpower\u001b[0m \u001b[1;32min\u001b[0m \u001b[0mpoly\u001b[0m\u001b[1;33m)\u001b[0m\u001b[1;33m\u001b[0m\u001b[1;33m\u001b[0m\u001b[0m\n\u001b[0m",
      "\u001b[1;31mTypeError\u001b[0m: 'float' object is not callable"
     ]
    }
   ],
   "source": [
    "print(eval_poly_dict2(poly,2))"
   ]
  },
  {
   "cell_type": "code",
   "execution_count": 48,
   "id": "9a175979",
   "metadata": {},
   "outputs": [],
   "source": [
    "##Read file Data"
   ]
  },
  {
   "cell_type": "code",
   "execution_count": 50,
   "id": "666d4b27",
   "metadata": {},
   "outputs": [],
   "source": [
    "file = open('deg2.dat', 'w')\n",
    "file.write(\"\"\"Oslo: 21.8\n",
    "London: 18.1\n",
    "Berlin: 19\n",
    "Paris: 23\n",
    "Rome: 26\n",
    "Helsinki: 17.8\n",
    "\"\"\")\n",
    "file.close()"
   ]
  },
  {
   "cell_type": "code",
   "execution_count": 64,
   "id": "8e16f4a8",
   "metadata": {},
   "outputs": [],
   "source": [
    "infile = open('deg2.dat', 'r')\n",
    "temps = {}\n",
    "for line in infile.readlines():\n",
    "    c,t = line.split()\n",
    "    c = c[:-1]\n",
    "    temps[c] = float(t)\n",
    "infile.close()"
   ]
  },
  {
   "cell_type": "code",
   "execution_count": 65,
   "id": "1d4f15b7",
   "metadata": {},
   "outputs": [
    {
     "data": {
      "text/plain": [
       "{'Oslo': 21.8,\n",
       " 'London': 18.1,\n",
       " 'Berlin': 19.0,\n",
       " 'Paris': 23.0,\n",
       " 'Rome': 26.0,\n",
       " 'Helsinki': 17.8}"
      ]
     },
     "execution_count": 65,
     "metadata": {},
     "output_type": "execute_result"
    }
   ],
   "source": [
    "temps"
   ]
  },
  {
   "cell_type": "code",
   "execution_count": 70,
   "id": "295b7038",
   "metadata": {},
   "outputs": [],
   "source": [
    "data = {'A':{1:11.7,2:9.2}}"
   ]
  },
  {
   "cell_type": "code",
   "execution_count": 71,
   "id": "0defa3a3",
   "metadata": {},
   "outputs": [
    {
     "data": {
      "text/plain": [
       "{'A': {1: 11.7, 2: 9.2}}"
      ]
     },
     "execution_count": 71,
     "metadata": {},
     "output_type": "execute_result"
    }
   ],
   "source": [
    "data"
   ]
  },
  {
   "cell_type": "code",
   "execution_count": 73,
   "id": "57c3f7fa",
   "metadata": {},
   "outputs": [
    {
     "data": {
      "text/plain": [
       "9.2"
      ]
     },
     "execution_count": 73,
     "metadata": {},
     "output_type": "execute_result"
    }
   ],
   "source": [
    "data['A'][2]"
   ]
  },
  {
   "cell_type": "code",
   "execution_count": 78,
   "id": "c75643d0",
   "metadata": {},
   "outputs": [],
   "source": [
    "file = open('table.dat', 'w')\n",
    "file.write(\"\"\"   A     B     C     D\n",
    "1 11.7  0.035  2017  99.1\n",
    "2 9.2   0.037  2019  101.2\n",
    "3 12.2  no     no    105.2\n",
    "4 10.1  0.031  no    102.1\n",
    "5 9.1   0.033  2009  103.3\n",
    "6 8.7   0.036  2015  101.9\n",
    "\"\"\")\n",
    "file.close()"
   ]
  },
  {
   "cell_type": "code",
   "execution_count": 94,
   "id": "535b5a22",
   "metadata": {},
   "outputs": [
    {
     "ename": "SyntaxError",
     "evalue": "invalid syntax (<ipython-input-94-8be66c8271fa>, line 9)",
     "output_type": "error",
     "traceback": [
      "\u001b[1;36m  File \u001b[1;32m\"<ipython-input-94-8be66c8271fa>\"\u001b[1;36m, line \u001b[1;32m9\u001b[0m\n\u001b[1;33m    for line in lines[]\u001b[0m\n\u001b[1;37m                      ^\u001b[0m\n\u001b[1;31mSyntaxError\u001b[0m\u001b[1;31m:\u001b[0m invalid syntax\n"
     ]
    }
   ],
   "source": [
    "infile = open('table.dat','r')\n",
    "lines = infile.readlines()\n",
    "infile.close()\n",
    "data = {}\n",
    "first_line = lines[0]\n",
    "properties = first_line.split()\n",
    "for p in properties:\n",
    "    data[p] = {}\n",
    "for line in lines[]"
   ]
  },
  {
   "cell_type": "code",
   "execution_count": 95,
   "id": "13c3e358",
   "metadata": {},
   "outputs": [
    {
     "data": {
      "text/plain": [
       "['   A     B     C     D\\n',\n",
       " '1 11.7  0.035  2017  99.1\\n',\n",
       " '2 9.2   0.037  2019  101.2\\n',\n",
       " '3 12.2  no     no    105.2\\n',\n",
       " '4 10.1  0.031  no    102.1\\n',\n",
       " '5 9.1   0.033  2009  103.3\\n',\n",
       " '6 8.7   0.036  2015  101.9\\n']"
      ]
     },
     "execution_count": 95,
     "metadata": {},
     "output_type": "execute_result"
    }
   ],
   "source": [
    "lines"
   ]
  },
  {
   "cell_type": "code",
   "execution_count": 96,
   "id": "f4b1ff07",
   "metadata": {},
   "outputs": [
    {
     "name": "stdout",
     "output_type": "stream",
     "text": [
      "['H']\n"
     ]
    }
   ],
   "source": [
    "print(properties)"
   ]
  },
  {
   "cell_type": "code",
   "execution_count": null,
   "id": "04a1ef9e",
   "metadata": {},
   "outputs": [],
   "source": []
  }
 ],
 "metadata": {
  "kernelspec": {
   "display_name": "Python 3",
   "language": "python",
   "name": "python3"
  },
  "language_info": {
   "codemirror_mode": {
    "name": "ipython",
    "version": 3
   },
   "file_extension": ".py",
   "mimetype": "text/x-python",
   "name": "python",
   "nbconvert_exporter": "python",
   "pygments_lexer": "ipython3",
   "version": "3.8.8"
  }
 },
 "nbformat": 4,
 "nbformat_minor": 5
}
