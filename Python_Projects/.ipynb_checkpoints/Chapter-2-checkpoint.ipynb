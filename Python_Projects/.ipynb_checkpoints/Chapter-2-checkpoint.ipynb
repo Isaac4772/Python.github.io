{
 "cells": [
  {
   "cell_type": "markdown",
   "id": "3d02b322",
   "metadata": {},
   "source": [
    "### Chapter 2: Loops and lists"
   ]
  },
  {
   "cell_type": "code",
   "execution_count": 3,
   "id": "52546e1d",
   "metadata": {},
   "outputs": [
    {
     "name": "stdout",
     "output_type": "stream",
     "text": [
      "Introducing Jupyter Notebook\n"
     ]
    }
   ],
   "source": [
    "print('Introducing Jupyter Notebook')"
   ]
  },
  {
   "cell_type": "code",
   "execution_count": 9,
   "id": "a49fef4c",
   "metadata": {},
   "outputs": [
    {
     "name": "stdout",
     "output_type": "stream",
     "text": [
      "----------------------------\n",
      "-20.0,  -4.0\n",
      "-15.0,   5.0\n",
      "-10.0,  14.0\n",
      " -5.0,  23.0\n",
      "  0.0,  32.0\n",
      "  5.0,  41.0\n",
      " 10.0,  50.0\n",
      " 15.0,  59.0\n",
      " 20.0,  68.0\n",
      " 25.0,  77.0\n",
      " 30.0,  86.0\n",
      " 35.0,  95.0\n",
      " 40.0, 104.0\n",
      "----------------------------\n"
     ]
    }
   ],
   "source": [
    "print('----------------------------')\n",
    "C = -20\n",
    "dC = 5\n",
    "while C<=40:\n",
    "    F = 9/5*C + 32\n",
    "    print('%5.1F,%6.1F'%(C,F))\n",
    "    C = C + dC\n",
    "print('----------------------------')"
   ]
  },
  {
   "cell_type": "markdown",
   "id": "7b346774",
   "metadata": {},
   "source": [
    "### List : Collection of python objects"
   ]
  },
  {
   "cell_type": "code",
   "execution_count": 19,
   "id": "2ed8bece",
   "metadata": {},
   "outputs": [],
   "source": []
  },
  {
   "cell_type": "code",
   "execution_count": 21,
   "id": "8e0eb98f",
   "metadata": {},
   "outputs": [
    {
     "data": {
      "text/plain": [
       "8"
      ]
     },
     "execution_count": 21,
     "metadata": {},
     "output_type": "execute_result"
    }
   ],
   "source": [
    "len(C)"
   ]
  },
  {
   "cell_type": "code",
   "execution_count": 22,
   "id": "70c58bc5",
   "metadata": {},
   "outputs": [
    {
     "data": {
      "text/plain": [
       "-15"
      ]
     },
     "execution_count": 22,
     "metadata": {},
     "output_type": "execute_result"
    }
   ],
   "source": [
    "C[1]"
   ]
  },
  {
   "cell_type": "code",
   "execution_count": 24,
   "id": "11afd00b",
   "metadata": {},
   "outputs": [
    {
     "data": {
      "text/plain": [
       "20"
      ]
     },
     "execution_count": 24,
     "metadata": {},
     "output_type": "execute_result"
    }
   ],
   "source": [
    "C[7]"
   ]
  },
  {
   "cell_type": "code",
   "execution_count": 28,
   "id": "ab3aaa71",
   "metadata": {},
   "outputs": [],
   "source": [
    "l1 = [-91, 'a string', 5.6, -12]"
   ]
  },
  {
   "cell_type": "code",
   "execution_count": 29,
   "id": "6ce5c725",
   "metadata": {},
   "outputs": [
    {
     "data": {
      "text/plain": [
       "5.6"
      ]
     },
     "execution_count": 29,
     "metadata": {},
     "output_type": "execute_result"
    }
   ],
   "source": [
    "l1[2]"
   ]
  },
  {
   "cell_type": "markdown",
   "id": "52e58c15",
   "metadata": {},
   "source": [
    "### List Operations"
   ]
  },
  {
   "cell_type": "code",
   "execution_count": 43,
   "id": "82a918b6",
   "metadata": {},
   "outputs": [],
   "source": [
    "C = [-20, -15, -10, -5, 0, 10, 15, 20]"
   ]
  },
  {
   "cell_type": "code",
   "execution_count": 44,
   "id": "f4267a0d",
   "metadata": {},
   "outputs": [
    {
     "data": {
      "text/plain": [
       "[-20, -15, -10, -5, 0, 10, 15, 20]"
      ]
     },
     "execution_count": 44,
     "metadata": {},
     "output_type": "execute_result"
    }
   ],
   "source": [
    "C"
   ]
  },
  {
   "cell_type": "code",
   "execution_count": 45,
   "id": "ae7dcbd3",
   "metadata": {},
   "outputs": [
    {
     "data": {
      "text/plain": [
       "8"
      ]
     },
     "execution_count": 45,
     "metadata": {},
     "output_type": "execute_result"
    }
   ],
   "source": [
    "len(C)"
   ]
  },
  {
   "cell_type": "code",
   "execution_count": 46,
   "id": "018c5049",
   "metadata": {},
   "outputs": [],
   "source": [
    "C.append(25)"
   ]
  },
  {
   "cell_type": "code",
   "execution_count": 47,
   "id": "67542c69",
   "metadata": {},
   "outputs": [],
   "source": [
    "C += [30, 35]"
   ]
  },
  {
   "cell_type": "code",
   "execution_count": 48,
   "id": "8e236a84",
   "metadata": {},
   "outputs": [
    {
     "data": {
      "text/plain": [
       "[-20, -15, -10, -5, 0, 10, 15, 20, 25, 30, 35]"
      ]
     },
     "execution_count": 48,
     "metadata": {},
     "output_type": "execute_result"
    }
   ],
   "source": [
    "C"
   ]
  },
  {
   "cell_type": "code",
   "execution_count": 50,
   "id": "2abbbc5b",
   "metadata": {},
   "outputs": [],
   "source": [
    "C.insert(0,5)"
   ]
  },
  {
   "cell_type": "code",
   "execution_count": 51,
   "id": "80e13a7c",
   "metadata": {},
   "outputs": [
    {
     "data": {
      "text/plain": [
       "[5, -20, -15, -10, -5, 0, 10, 15, 20, 25, 30, 35]"
      ]
     },
     "execution_count": 51,
     "metadata": {},
     "output_type": "execute_result"
    }
   ],
   "source": [
    "C"
   ]
  },
  {
   "cell_type": "code",
   "execution_count": 53,
   "id": "0efb4546",
   "metadata": {},
   "outputs": [],
   "source": [
    "C.insert( 5,'five')"
   ]
  },
  {
   "cell_type": "code",
   "execution_count": 62,
   "id": "58913144",
   "metadata": {
    "scrolled": true
   },
   "outputs": [
    {
     "data": {
      "text/plain": [
       "[5, -20, -15, -10, -5, 'five', 0, 10, 15, 20, 25, 30, 35]"
      ]
     },
     "execution_count": 62,
     "metadata": {},
     "output_type": "execute_result"
    }
   ],
   "source": [
    "C"
   ]
  },
  {
   "cell_type": "markdown",
   "id": "3503f50e",
   "metadata": {},
   "source": [
    "### List Operation: searching and negative indexing"
   ]
  },
  {
   "cell_type": "code",
   "execution_count": 57,
   "id": "d6fa177f",
   "metadata": {},
   "outputs": [
    {
     "data": {
      "text/plain": [
       "[5, -20, -15, -10, -5, 'five', 0, 10, 15, 20, 25, 30, 35]"
      ]
     },
     "execution_count": 57,
     "metadata": {},
     "output_type": "execute_result"
    }
   ],
   "source": [
    "C"
   ]
  },
  {
   "cell_type": "code",
   "execution_count": 58,
   "id": "2f711f1b",
   "metadata": {
    "scrolled": true
   },
   "outputs": [
    {
     "data": {
      "text/plain": [
       "7"
      ]
     },
     "execution_count": 58,
     "metadata": {},
     "output_type": "execute_result"
    }
   ],
   "source": [
    "C.index(10)"
   ]
  },
  {
   "cell_type": "code",
   "execution_count": 59,
   "id": "26b8f72d",
   "metadata": {},
   "outputs": [
    {
     "data": {
      "text/plain": [
       "True"
      ]
     },
     "execution_count": 59,
     "metadata": {},
     "output_type": "execute_result"
    }
   ],
   "source": [
    "10 in C"
   ]
  },
  {
   "cell_type": "code",
   "execution_count": 60,
   "id": "c4845a1e",
   "metadata": {},
   "outputs": [
    {
     "data": {
      "text/plain": [
       "[5, -20, -15, -10, -5, 'five', 0, 10, 15, 20, 25, 30, 35]"
      ]
     },
     "execution_count": 60,
     "metadata": {},
     "output_type": "execute_result"
    }
   ],
   "source": [
    "C"
   ]
  },
  {
   "cell_type": "code",
   "execution_count": 61,
   "id": "9545895a",
   "metadata": {},
   "outputs": [
    {
     "data": {
      "text/plain": [
       "13"
      ]
     },
     "execution_count": 61,
     "metadata": {},
     "output_type": "execute_result"
    }
   ],
   "source": [
    "len(C)"
   ]
  },
  {
   "cell_type": "code",
   "execution_count": 65,
   "id": "e8da9e52",
   "metadata": {},
   "outputs": [
    {
     "data": {
      "text/plain": [
       "35"
      ]
     },
     "execution_count": 65,
     "metadata": {},
     "output_type": "execute_result"
    }
   ],
   "source": [
    "C[12]"
   ]
  },
  {
   "cell_type": "code",
   "execution_count": 66,
   "id": "46c4361f",
   "metadata": {},
   "outputs": [
    {
     "data": {
      "text/plain": [
       "35"
      ]
     },
     "execution_count": 66,
     "metadata": {},
     "output_type": "execute_result"
    }
   ],
   "source": [
    "C[-1]"
   ]
  },
  {
   "cell_type": "markdown",
   "id": "dd870810",
   "metadata": {},
   "source": [
    "### Loop over element with for loop"
   ]
  },
  {
   "cell_type": "code",
   "execution_count": 67,
   "id": "2247e22d",
   "metadata": {},
   "outputs": [
    {
     "data": {
      "text/plain": [
       "[5, -20, -15, -10, -5, 'five', 0, 10, 15, 20, 25, 30, 35]"
      ]
     },
     "execution_count": 67,
     "metadata": {},
     "output_type": "execute_result"
    }
   ],
   "source": [
    "C"
   ]
  },
  {
   "cell_type": "code",
   "execution_count": 69,
   "id": "548a6ff6",
   "metadata": {},
   "outputs": [
    {
     "name": "stdout",
     "output_type": "stream",
     "text": [
      "Celsius:  -15\n",
      "Farenheit 5.0\n",
      "Celsius:  -10\n",
      "Farenheit 14.0\n",
      "Celsius:  -5\n",
      "Farenheit 23.0\n",
      "Celsius:  10\n",
      "Farenheit 50.0\n",
      "Celsius:  15\n",
      "Farenheit 59.0\n",
      "Celsius:  20\n",
      "Farenheit 68.0\n",
      "Celsius:  25\n",
      "Farenheit 77.0\n",
      "Celsius:  30\n",
      "Farenheit 86.0\n",
      "degrees list has 8 elements\n"
     ]
    }
   ],
   "source": [
    "degrees = [-15, -10, -5, 10, 15, 20, 25, 30]\n",
    "for C in degrees:\n",
    "    print('Celsius: ', C)\n",
    "    F = 9/5*C + 32\n",
    "    print('Farenheit', F)\n",
    "print('degrees list has',len(degrees),'elements')"
   ]
  },
  {
   "cell_type": "code",
   "execution_count": 71,
   "id": "6a74c378",
   "metadata": {},
   "outputs": [
    {
     "name": "stdout",
     "output_type": "stream",
     "text": [
      "5 41.0\n",
      "-20 -4.0\n",
      "-15 5.0\n",
      "-10 14.0\n",
      "-5 23.0\n",
      "0 32.0\n",
      "10 50.0\n",
      "15 59.0\n",
      "20 68.0\n",
      "25 77.0\n",
      "30 86.0\n",
      "35 95.0\n"
     ]
    }
   ],
   "source": [
    "Cdegree = [5, -20, -15, -10, -5, 0, 10, 15, 20, 25, 30, 35];\n",
    "for C in Cdegree:\n",
    "    F = 9/5 * C + 32\n",
    "    print(C,F)"
   ]
  },
  {
   "cell_type": "code",
   "execution_count": 79,
   "id": "1c98f937",
   "metadata": {},
   "outputs": [
    {
     "name": "stdout",
     "output_type": "stream",
     "text": [
      "    5,  41.0\n",
      "  -20,  -4.0\n",
      "  -15,   5.0\n",
      "  -10,  14.0\n",
      "   -5,  23.0\n",
      "    0,  32.0\n",
      "   10,  50.0\n",
      "   15,  59.0\n",
      "   20,  68.0\n",
      "   25,  77.0\n",
      "   30,  86.0\n",
      "   35,  95.0\n"
     ]
    }
   ],
   "source": [
    "i = 0\n",
    "while i < len(Cdegree):\n",
    "    C = Cdegree[i]\n",
    "    F = 9/5 * C + 32\n",
    "    print('%5d, %5.1f'%(C,F))\n",
    "    i+=1"
   ]
  },
  {
   "cell_type": "code",
   "execution_count": null,
   "id": "a16e65c8",
   "metadata": {},
   "outputs": [],
   "source": []
  }
 ],
 "metadata": {
  "kernelspec": {
   "display_name": "Python 3",
   "language": "python",
   "name": "python3"
  },
  "language_info": {
   "codemirror_mode": {
    "name": "ipython",
    "version": 3
   },
   "file_extension": ".py",
   "mimetype": "text/x-python",
   "name": "python",
   "nbconvert_exporter": "python",
   "pygments_lexer": "ipython3",
   "version": "3.8.8"
  }
 },
 "nbformat": 4,
 "nbformat_minor": 5
}
