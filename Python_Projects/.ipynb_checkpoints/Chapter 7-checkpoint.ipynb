{
 "cells": [
  {
   "cell_type": "code",
   "execution_count": 4,
   "id": "de898acf",
   "metadata": {},
   "outputs": [],
   "source": [
    "class Student:\n",
    "    def __init__(self, name):\n",
    "        self.name = name\n",
    "    def dump(self):\n",
    "        print('Student name is ',self.name)"
   ]
  },
  {
   "cell_type": "code",
   "execution_count": 5,
   "id": "6e1bea09",
   "metadata": {},
   "outputs": [],
   "source": [
    "s1 = Student('Mg Mg')"
   ]
  },
  {
   "cell_type": "code",
   "execution_count": 6,
   "id": "e0c259cd",
   "metadata": {},
   "outputs": [
    {
     "name": "stdout",
     "output_type": "stream",
     "text": [
      "Student name is  Mg Mg\n"
     ]
    }
   ],
   "source": [
    "s1.dump()"
   ]
  },
  {
   "cell_type": "code",
   "execution_count": 7,
   "id": "39706110",
   "metadata": {},
   "outputs": [
    {
     "data": {
      "text/plain": [
       "'Mg Mg'"
      ]
     },
     "execution_count": 7,
     "metadata": {},
     "output_type": "execute_result"
    }
   ],
   "source": [
    "s1.name"
   ]
  },
  {
   "cell_type": "code",
   "execution_count": 8,
   "id": "bfde50d6",
   "metadata": {},
   "outputs": [],
   "source": [
    "s2 = Student('Aye Aye')"
   ]
  },
  {
   "cell_type": "code",
   "execution_count": 9,
   "id": "567bde9c",
   "metadata": {},
   "outputs": [
    {
     "name": "stdout",
     "output_type": "stream",
     "text": [
      "Student name is  Aye Aye\n"
     ]
    }
   ],
   "source": [
    "s2.dump()"
   ]
  },
  {
   "cell_type": "code",
   "execution_count": 10,
   "id": "7040a6de",
   "metadata": {},
   "outputs": [
    {
     "data": {
      "text/plain": [
       "'Aye Aye'"
      ]
     },
     "execution_count": 10,
     "metadata": {},
     "output_type": "execute_result"
    }
   ],
   "source": [
    "s2.name"
   ]
  },
  {
   "cell_type": "markdown",
   "id": "52725ce8",
   "metadata": {},
   "source": [
    "# Class Example : A bank Account"
   ]
  },
  {
   "cell_type": "code",
   "execution_count": 108,
   "id": "c258c3f7",
   "metadata": {},
   "outputs": [],
   "source": [
    "class Account:\n",
    "    def __init__(self, name, account_number, initial_amount):\n",
    "        self.name = name\n",
    "        self.no = account_number\n",
    "        self.balance = initial_amount\n",
    "    def deposit(self, amount):\n",
    "        self.balance += amount\n",
    "    def withdraw(self, amount):\n",
    "        self.balance -= amount\n",
    "    def dump(self):\n",
    "        s = '%s, %s balance: %s'%(self.name, self.no, self.balance)\n",
    "        print(s)"
   ]
  },
  {
   "cell_type": "code",
   "execution_count": 109,
   "id": "a8766863",
   "metadata": {},
   "outputs": [],
   "source": [
    "mgmg = Account('Mg Mg', '12345', 20000)"
   ]
  },
  {
   "cell_type": "code",
   "execution_count": 110,
   "id": "0869cbcf",
   "metadata": {},
   "outputs": [
    {
     "data": {
      "text/plain": [
       "'Mg Mg'"
      ]
     },
     "execution_count": 110,
     "metadata": {},
     "output_type": "execute_result"
    }
   ],
   "source": [
    "mgmg.name"
   ]
  },
  {
   "cell_type": "code",
   "execution_count": 111,
   "id": "b8ae1318",
   "metadata": {},
   "outputs": [
    {
     "data": {
      "text/plain": [
       "'12345'"
      ]
     },
     "execution_count": 111,
     "metadata": {},
     "output_type": "execute_result"
    }
   ],
   "source": [
    "mgmg.no"
   ]
  },
  {
   "cell_type": "code",
   "execution_count": 112,
   "id": "4e4d61f7",
   "metadata": {},
   "outputs": [
    {
     "data": {
      "text/plain": [
       "20000"
      ]
     },
     "execution_count": 112,
     "metadata": {},
     "output_type": "execute_result"
    }
   ],
   "source": [
    "mgmg.balance"
   ]
  },
  {
   "cell_type": "code",
   "execution_count": 113,
   "id": "5442b649",
   "metadata": {},
   "outputs": [],
   "source": [
    "mgmg.deposit(30000)"
   ]
  },
  {
   "cell_type": "code",
   "execution_count": 114,
   "id": "46c96bb0",
   "metadata": {},
   "outputs": [
    {
     "data": {
      "text/plain": [
       "50000"
      ]
     },
     "execution_count": 114,
     "metadata": {},
     "output_type": "execute_result"
    }
   ],
   "source": [
    "mgmg.balance"
   ]
  },
  {
   "cell_type": "code",
   "execution_count": 115,
   "id": "e5c827ac",
   "metadata": {},
   "outputs": [],
   "source": [
    "mgmg.withdraw(20000)"
   ]
  },
  {
   "cell_type": "code",
   "execution_count": 116,
   "id": "fc2f8c76",
   "metadata": {},
   "outputs": [
    {
     "data": {
      "text/plain": [
       "30000"
      ]
     },
     "execution_count": 116,
     "metadata": {},
     "output_type": "execute_result"
    }
   ],
   "source": [
    "mgmg.balance"
   ]
  },
  {
   "cell_type": "code",
   "execution_count": 117,
   "id": "f0b90331",
   "metadata": {},
   "outputs": [
    {
     "name": "stdout",
     "output_type": "stream",
     "text": [
      "Mg Mg, 12345 balance: 20000\n"
     ]
    }
   ],
   "source": [
    "mgmg = Account('Mg Mg', '12345', 20000)\n",
    "mgmg.dump()"
   ]
  },
  {
   "cell_type": "code",
   "execution_count": null,
   "id": "306bd7dc",
   "metadata": {},
   "outputs": [],
   "source": []
  },
  {
   "cell_type": "code",
   "execution_count": null,
   "id": "8517d8a2",
   "metadata": {},
   "outputs": [],
   "source": []
  }
 ],
 "metadata": {
  "kernelspec": {
   "display_name": "Python 3",
   "language": "python",
   "name": "python3"
  },
  "language_info": {
   "codemirror_mode": {
    "name": "ipython",
    "version": 3
   },
   "file_extension": ".py",
   "mimetype": "text/x-python",
   "name": "python",
   "nbconvert_exporter": "python",
   "pygments_lexer": "ipython3",
   "version": "3.8.8"
  }
 },
 "nbformat": 4,
 "nbformat_minor": 5
}
