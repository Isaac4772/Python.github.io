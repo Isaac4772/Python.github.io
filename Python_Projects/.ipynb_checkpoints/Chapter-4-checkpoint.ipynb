{
 "cells": [
  {
   "cell_type": "code",
   "execution_count": 2,
   "id": "bafde686",
   "metadata": {},
   "outputs": [
    {
     "name": "stdout",
     "output_type": "stream",
     "text": [
      "C=? 32\n",
      "89.6\n"
     ]
    }
   ],
   "source": [
    "C = float(input('C=? '))\n",
    "F = (9./5)*C + 32\n",
    "print (F)"
   ]
  },
  {
   "cell_type": "code",
   "execution_count": 4,
   "id": "3ce372be",
   "metadata": {},
   "outputs": [
    {
     "name": "stdout",
     "output_type": "stream",
     "text": [
      "n =5\n",
      "2\n",
      "4\n",
      "6\n",
      "8\n",
      "10\n"
     ]
    }
   ],
   "source": [
    " n = int(input('n ='))\n",
    "for i in range(2,2*n+1,2):\n",
    "    print(i)"
   ]
  },
  {
   "cell_type": "markdown",
   "id": "eb46b6a8",
   "metadata": {},
   "source": [
    "# Magic eval function"
   ]
  },
  {
   "cell_type": "code",
   "execution_count": 5,
   "id": "02b0c888",
   "metadata": {},
   "outputs": [
    {
     "name": "stdout",
     "output_type": "stream",
     "text": [
      "3\n"
     ]
    }
   ],
   "source": [
    "s = '1 + 2'\n",
    "r = eval(s)\n",
    "type (r)\n",
    "print(r)"
   ]
  },
  {
   "cell_type": "code",
   "execution_count": 7,
   "id": "6f4a2346",
   "metadata": {},
   "outputs": [
    {
     "name": "stdout",
     "output_type": "stream",
     "text": [
      "[1, 6, 7.5, 1, 2]\n"
     ]
    }
   ],
   "source": [
    "r = eval('[1,6,7.5]+[1,2]')\n",
    "print(r)"
   ]
  },
  {
   "cell_type": "code",
   "execution_count": 8,
   "id": "19a1342b",
   "metadata": {},
   "outputs": [
    {
     "data": {
      "text/plain": [
       "str"
      ]
     },
     "execution_count": 8,
     "metadata": {},
     "output_type": "execute_result"
    }
   ],
   "source": [
    "r = eval(\"'math programming'\")\n",
    "type(r)"
   ]
  },
  {
   "cell_type": "code",
   "execution_count": 11,
   "id": "8e586b3b",
   "metadata": {},
   "outputs": [
    {
     "name": "stdout",
     "output_type": "stream",
     "text": [
      "Give input: 1\n",
      "Give input: 2\n",
      "<class 'int'> + <class 'int'> becomes <class 'int'>\n",
      " with value 3\n"
     ]
    }
   ],
   "source": [
    "i1 = eval(input('Give input: '))\n",
    "i2 = eval(input('Give input: '))\n",
    "r = i1 + i2\n",
    "print('%s + %s becomes %s\\n with value %s'%(type(i1),type(i2),type(r),r))"
   ]
  },
  {
   "cell_type": "code",
   "execution_count": 12,
   "id": "eede9d5e",
   "metadata": {},
   "outputs": [
    {
     "name": "stdout",
     "output_type": "stream",
     "text": [
      "3\n"
     ]
    }
   ],
   "source": [
    "statement = 'r = 1 + 2'\n",
    "exec(statement)\n",
    "print(r)"
   ]
  },
  {
   "cell_type": "markdown",
   "id": "9863370b",
   "metadata": {},
   "source": [
    "# Building a function at run time"
   ]
  },
  {
   "cell_type": "code",
   "execution_count": null,
   "id": "0e469f07",
   "metadata": {},
   "outputs": [],
   "source": [
    "formula = input('Writer a formula involving x: ')\n",
    "code = \"\"\"\n",
    "def f(x):\n",
    "    return %s\n",
    "\"\"\"%formula\n",
    "from math import *\n",
    "exec(code)\n",
    "\n",
    "x = 0\n",
    "while x is not None:\n",
    "    x = eval(input('Give x(None to quit): '))\n",
    "    if x is not None:\n",
    "        y = f(x)\n",
    "        print('f(%g) = %g'%(x,y))"
   ]
  },
  {
   "cell_type": "code",
   "execution_count": null,
   "id": "cf4414b5",
   "metadata": {},
   "outputs": [],
   "source": []
  },
  {
   "cell_type": "code",
   "execution_count": null,
   "id": "0c8aae33",
   "metadata": {},
   "outputs": [],
   "source": []
  }
 ],
 "metadata": {
  "kernelspec": {
   "display_name": "Python 3",
   "language": "python",
   "name": "python3"
  },
  "language_info": {
   "codemirror_mode": {
    "name": "ipython",
    "version": 3
   },
   "file_extension": ".py",
   "mimetype": "text/x-python",
   "name": "python",
   "nbconvert_exporter": "python",
   "pygments_lexer": "ipython3",
   "version": "3.8.8"
  }
 },
 "nbformat": 4,
 "nbformat_minor": 5
}
