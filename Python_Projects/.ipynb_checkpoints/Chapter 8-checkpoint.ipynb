{
 "cells": [
  {
   "cell_type": "markdown",
   "id": "040abd0b",
   "metadata": {},
   "source": [
    "# Inheritance"
   ]
  },
  {
   "cell_type": "code",
   "execution_count": 1,
   "id": "db24ddf7",
   "metadata": {},
   "outputs": [],
   "source": [
    "class Date:\n",
    "    def get_date(self):\n",
    "        return '2021-11-10'\n",
    "\n",
    "class Time(Date):\n",
    "    def get_time(self):\n",
    "        return '06:52:00'"
   ]
  },
  {
   "cell_type": "code",
   "execution_count": 3,
   "id": "39f37ba8",
   "metadata": {},
   "outputs": [],
   "source": [
    "d1 = Date()\n",
    "t1 = Time()"
   ]
  },
  {
   "cell_type": "code",
   "execution_count": 7,
   "id": "31baee0e",
   "metadata": {},
   "outputs": [
    {
     "data": {
      "text/plain": [
       "'2021-11-10'"
      ]
     },
     "execution_count": 7,
     "metadata": {},
     "output_type": "execute_result"
    }
   ],
   "source": [
    "d1.get_date()"
   ]
  },
  {
   "cell_type": "code",
   "execution_count": 8,
   "id": "efec33a6",
   "metadata": {},
   "outputs": [
    {
     "data": {
      "text/plain": [
       "'06:52:00'"
      ]
     },
     "execution_count": 8,
     "metadata": {},
     "output_type": "execute_result"
    }
   ],
   "source": [
    "t1.get_time()"
   ]
  },
  {
   "cell_type": "code",
   "execution_count": 9,
   "id": "5dcf9499",
   "metadata": {},
   "outputs": [
    {
     "data": {
      "text/plain": [
       "'2021-11-10'"
      ]
     },
     "execution_count": 9,
     "metadata": {},
     "output_type": "execute_result"
    }
   ],
   "source": [
    "t1.get_date()"
   ]
  },
  {
   "cell_type": "code",
   "execution_count": 11,
   "id": "5cd67bbf",
   "metadata": {},
   "outputs": [
    {
     "data": {
      "text/plain": [
       "[__main__.Date, object]"
      ]
     },
     "execution_count": 11,
     "metadata": {},
     "output_type": "execute_result"
    }
   ],
   "source": [
    "Date.mro()"
   ]
  },
  {
   "cell_type": "markdown",
   "id": "ec846b33",
   "metadata": {},
   "source": [
    "# Method Resolution Order"
   ]
  },
  {
   "cell_type": "code",
   "execution_count": 44,
   "id": "0222bf48",
   "metadata": {},
   "outputs": [
    {
     "ename": "SyntaxError",
     "evalue": "invalid syntax (<ipython-input-44-6d318a6813bc>, line 1)",
     "output_type": "error",
     "traceback": [
      "\u001b[1;36m  File \u001b[1;32m\"<ipython-input-44-6d318a6813bc>\"\u001b[1;36m, line \u001b[1;32m1\u001b[0m\n\u001b[1;33m    +mport random\u001b[0m\n\u001b[1;37m           ^\u001b[0m\n\u001b[1;31mSyntaxError\u001b[0m\u001b[1;31m:\u001b[0m invalid syntax\n"
     ]
    }
   ],
   "source": [
    "iijiefwijweifjwejfewfjewfewijfewf\n",
    "class Animal:\n",
    "    def __init__(self, name):\n",
    "        self.name = name\n",
    "    def eat(self, food):\n",
    "        print('%s is eating %s'%(self.name, food))\n",
    "\n",
    "class Dog(Animal):\n",
    "    def __init__(self, name):\n",
    "        /uper(Dog,self)*/nit__(name)\n",
    "        self.breed = random.choices(['GR', 'BD', 'PUP'])\n",
    "    def fetch(self,thing):\n",
    "        print('%s goes after the %s'%(self.name, thing))\n",
    "    def show_affection(self):\n",
    "        print('%s wags tail'%self.name)\n",
    "class Cat(Animal):\n",
    "    def swatstring(self):\n",
    "        print('%s shreds the string!'%self.name)\n",
    "    def show_affection(self):\n",
    "        print('%s purs'%self.name)\n",
    "d = Dog('Ranger')\n",
    "c = Cat('Moew')"
   ]
  },
  {
   "cell_type": "code",
   "execution_count": 43,
   "id": "e27f4155",
   "metadata": {},
   "outputs": [
    {
     "name": "stdout",
     "output_type": "stream",
     "text": [
      "Ranger goes after the ball\n"
     ]
    }
   ],
   "source": [
    "d.fetch('ball')"
   ]
  },
  {
   "cell_type": "code",
   "execution_count": 38,
   "id": "df3f7c4d",
   "metadata": {},
   "outputs": [
    {
     "name": "stdout",
     "output_type": "stream",
     "text": [
      "Moew shreds the string!\n"
     ]
    }
   ],
   "source": [
    "c.swatstring()"
   ]
  },
  {
   "cell_type": "code",
   "execution_count": 39,
   "id": "11d07be7",
   "metadata": {},
   "outputs": [
    {
     "name": "stdout",
     "output_type": "stream",
     "text": [
      "Ranger is eating dog food\n"
     ]
    }
   ],
   "source": [
    "d.eat('dog food')"
   ]
  },
  {
   "cell_type": "code",
   "execution_count": 40,
   "id": "bf609b0a",
   "metadata": {},
   "outputs": [
    {
     "name": "stdout",
     "output_type": "stream",
     "text": [
      "Ranger wags tail\n"
     ]
    }
   ],
   "source": [
    "d.show_affection()"
   ]
  },
  {
   "cell_type": "code",
   "execution_count": 41,
   "id": "129152cd",
   "metadata": {},
   "outputs": [
    {
     "name": "stdout",
     "output_type": "stream",
     "text": [
      "Moew purs\n"
     ]
    }
   ],
   "source": [
    "c.show_affection()"
   ]
  },
  {
   "cell_type": "code",
   "execution_count": 6,
   "id": "7eeeb1db",
   "metadata": {},
   "outputs": [
    {
     "name": "stdout",
     "output_type": "stream",
     "text": [
      "Doing this in A\n"
     ]
    }
   ],
   "source": [
    "class A:\n",
    "    def dothis(self):\n",
    "        print('Doing this in A')\n",
    "        \n",
    "class B(A):\n",
    "    pass\n",
    "\n",
    "class C:\n",
    "    def dothis(self):\n",
    "        print('do this in C')\n",
    "\n",
    "class D(B,C):\n",
    "    pass\n",
    "\n",
    "d_instance = D()\n",
    "d_instance.dothis()\n",
    "    "
   ]
  },
  {
   "cell_type": "code",
   "execution_count": 7,
   "id": "1b865918",
   "metadata": {},
   "outputs": [
    {
     "name": "stdout",
     "output_type": "stream",
     "text": [
      "[<class '__main__.D'>, <class '__main__.B'>, <class '__main__.A'>, <class '__main__.C'>, <class 'object'>]\n"
     ]
    }
   ],
   "source": [
    "print(D.mro())"
   ]
  },
  {
   "cell_type": "markdown",
   "id": "f0253b1b",
   "metadata": {},
   "source": [
    "# Diamond Shape Multiple inheritance"
   ]
  },
  {
   "cell_type": "code",
   "execution_count": 9,
   "id": "d225d7ea",
   "metadata": {},
   "outputs": [
    {
     "name": "stdout",
     "output_type": "stream",
     "text": [
      "Doing this in C\n",
      "[<class '__main__.A.D'>, <class '__main__.A.B'>, <class '__main__.A.C'>, <class '__main__.A'>, <class 'object'>]\n"
     ]
    }
   ],
   "source": [
    "class A:\n",
    "    def dothis(self):\n",
    "        print('Doing this in A')\n",
    "        \n",
    "    class B(A):\n",
    "        pass\n",
    "    \n",
    "    class C(A):\n",
    "        def dothis(self):\n",
    "            print('Doing this in C')\n",
    "            \n",
    "    class D(B,C):\n",
    "        pass\n",
    "    \n",
    "    d_instance = D()\n",
    "    d_instance.dothis()\n",
    "    print(D.mro())"
   ]
  },
  {
   "cell_type": "code",
   "execution_count": null,
   "id": "9407a37f",
   "metadata": {},
   "outputs": [],
   "source": []
  }
 ],
 "metadata": {
  "kernelspec": {
   "display_name": "Python 3",
   "language": "python",
   "name": "python3"
  },
  "language_info": {
   "codemirror_mode": {
    "name": "ipython",
    "version": 3
   },
   "file_extension": ".py",
   "mimetype": "text/x-python",
   "name": "python",
   "nbconvert_exporter": "python",
   "pygments_lexer": "ipython3",
   "version": "3.8.8"
  }
 },
 "nbformat": 4,
 "nbformat_minor": 5
}
