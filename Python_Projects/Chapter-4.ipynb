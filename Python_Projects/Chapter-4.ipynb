{
 "cells": [
  {
   "cell_type": "code",
   "execution_count": 2,
   "id": "bafde686",
   "metadata": {},
   "outputs": [
    {
     "name": "stdout",
     "output_type": "stream",
     "text": [
      "C=? 32\n",
      "89.6\n"
     ]
    }
   ],
   "source": [
    "C = float(input('C=? '))\n",
    "F = (9./5)*C + 32\n",
    "print (F)"
   ]
  },
  {
   "cell_type": "code",
   "execution_count": 4,
   "id": "3ce372be",
   "metadata": {},
   "outputs": [
    {
     "name": "stdout",
     "output_type": "stream",
     "text": [
      "n =5\n",
      "2\n",
      "4\n",
      "6\n",
      "8\n",
      "10\n"
     ]
    }
   ],
   "source": [
    " n = int(input('n ='))\n",
    "for i in range(2,2*n+1,2):\n",
    "    print(i)"
   ]
  },
  {
   "cell_type": "markdown",
   "id": "eb46b6a8",
   "metadata": {},
   "source": [
    "# Magic eval function"
   ]
  },
  {
   "cell_type": "code",
   "execution_count": 5,
   "id": "02b0c888",
   "metadata": {},
   "outputs": [
    {
     "name": "stdout",
     "output_type": "stream",
     "text": [
      "3\n"
     ]
    }
   ],
   "source": [
    "s = '1 + 2'\n",
    "r = eval(s)\n",
    "type (r)\n",
    "print(r)"
   ]
  },
  {
   "cell_type": "code",
   "execution_count": 7,
   "id": "6f4a2346",
   "metadata": {},
   "outputs": [
    {
     "name": "stdout",
     "output_type": "stream",
     "text": [
      "[1, 6, 7.5, 1, 2]\n"
     ]
    }
   ],
   "source": [
    "r = eval('[1,6,7.5]+[1,2]')\n",
    "print(r)"
   ]
  },
  {
   "cell_type": "code",
   "execution_count": 8,
   "id": "19a1342b",
   "metadata": {},
   "outputs": [
    {
     "data": {
      "text/plain": [
       "str"
      ]
     },
     "execution_count": 8,
     "metadata": {},
     "output_type": "execute_result"
    }
   ],
   "source": [
    "r = eval(\"'math programming'\")\n",
    "type(r)"
   ]
  },
  {
   "cell_type": "code",
   "execution_count": 11,
   "id": "8e586b3b",
   "metadata": {},
   "outputs": [
    {
     "name": "stdout",
     "output_type": "stream",
     "text": [
      "Give input: 1\n",
      "Give input: 2\n",
      "<class 'int'> + <class 'int'> becomes <class 'int'>\n",
      " with value 3\n"
     ]
    }
   ],
   "source": [
    "i1 = eval(input('Give input: '))\n",
    "i2 = eval(input('Give input: '))\n",
    "r = i1 + i2\n",
    "print('%s + %s becomes %s\\n with value %s'%(type(i1),type(i2),type(r),r))"
   ]
  },
  {
   "cell_type": "code",
   "execution_count": 12,
   "id": "eede9d5e",
   "metadata": {},
   "outputs": [
    {
     "name": "stdout",
     "output_type": "stream",
     "text": [
      "3\n"
     ]
    }
   ],
   "source": [
    "statement = 'r = 1 + 2'\n",
    "exec(statement)\n",
    "print(r)"
   ]
  },
  {
   "cell_type": "markdown",
   "id": "9863370b",
   "metadata": {},
   "source": [
    "# Building a function at run time"
   ]
  },
  {
   "cell_type": "code",
   "execution_count": 1,
   "id": "0e469f07",
   "metadata": {},
   "outputs": [
    {
     "name": "stdout",
     "output_type": "stream",
     "text": [
      "Writer a formula involving x: 2*x + 1\n",
      "Give x(None to quit): 3\n",
      "f(3) = 7\n",
      "Give x(None to quit): 4\n",
      "f(4) = 9\n",
      "Give x(None to quit): 0\n",
      "f(0) = 1\n",
      "Give x(None to quit): 0\n",
      "f(0) = 1\n",
      "Give x(None to quit): 0\n",
      "f(0) = 1\n",
      "Give x(None to quit): \n"
     ]
    },
    {
     "ename": "SyntaxError",
     "evalue": "unexpected EOF while parsing (<string>, line 0)",
     "output_type": "error",
     "traceback": [
      "Traceback \u001b[1;36m(most recent call last)\u001b[0m:\n",
      "  File \u001b[0;32m\"C:\\Users\\Aungp\\anaconda3\\lib\\site-packages\\IPython\\core\\interactiveshell.py\"\u001b[0m, line \u001b[0;32m3437\u001b[0m, in \u001b[0;35mrun_code\u001b[0m\n    exec(code_obj, self.user_global_ns, self.user_ns)\n",
      "\u001b[1;36m  File \u001b[1;32m\"<ipython-input-1-3ac76615e6f8>\"\u001b[1;36m, line \u001b[1;32m11\u001b[1;36m, in \u001b[1;35m<module>\u001b[1;36m\u001b[0m\n\u001b[1;33m    x = eval(input('Give x(None to quit): '))\u001b[0m\n",
      "\u001b[1;36m  File \u001b[1;32m\"<string>\"\u001b[1;36m, line \u001b[1;32munknown\u001b[0m\n\u001b[1;33m    \u001b[0m\n\u001b[1;37m    ^\u001b[0m\n\u001b[1;31mSyntaxError\u001b[0m\u001b[1;31m:\u001b[0m unexpected EOF while parsing\n"
     ]
    }
   ],
   "source": [
    "formula = input('Writer a formula involving x: ')\n",
    "code = \"\"\"\n",
    "def f(x):\n",
    "    return %s\n",
    "\"\"\"%formula\n",
    "from math import *\n",
    "exec(code)\n",
    "\n",
    "x = 0\n",
    "while x is not None:\n",
    "    x = eval(input('Give x(None to quit): '))\n",
    "    if x is not None:\n",
    "        y = f(x)\n",
    "        print('f(%g) = %g'%(x,y))"
   ]
  },
  {
   "cell_type": "markdown",
   "id": "2a003b09",
   "metadata": {},
   "source": [
    "# Python GUI with Tkinter"
   ]
  },
  {
   "cell_type": "code",
   "execution_count": 5,
   "id": "0c8aae33",
   "metadata": {},
   "outputs": [],
   "source": [
    "from tkinter import *\n",
    "root = Tk()\n",
    "C_entry = Entry(root, width = 10)\n",
    "C_entry.pack(side='left')\n",
    "Cunit_label = Label(root, text='Celsius')\n",
    "Cunit_label.pack(side='left')\n",
    "def compute():\n",
    "    C = float(C_entry.get())\n",
    "    F = (9.0/5)*C+32\n",
    "    F_label.configure(text='%g'%F)\n",
    "compute = Button(root,text='is',command=compute)\n",
    "compute.pack(side='left',padx = 4)\n",
    "\n",
    "F_label = Label(root, width = 4)\n",
    "F_label.pack(side='left')\n",
    "Funit_label = Label(root, text='Farenheit')\n",
    "Funit_label.pack(side='left')\n",
    "root.mainloop()"
   ]
  },
  {
   "cell_type": "code",
   "execution_count": null,
   "id": "01bf80df",
   "metadata": {},
   "outputs": [],
   "source": [
    "f = open('tmp.txt', 'w')\n",
    "f.write(\"\"\"Line\"\"\")"
   ]
  },
  {
   "cell_type": "code",
   "execution_count": null,
   "id": "4694dc02",
   "metadata": {},
   "outputs": [],
   "source": []
  }
 ],
 "metadata": {
  "kernelspec": {
   "display_name": "Python 3",
   "language": "python",
   "name": "python3"
  },
  "language_info": {
   "codemirror_mode": {
    "name": "ipython",
    "version": 3
   },
   "file_extension": ".py",
   "mimetype": "text/x-python",
   "name": "python",
   "nbconvert_exporter": "python",
   "pygments_lexer": "ipython3",
   "version": "3.8.8"
  }
 },
 "nbformat": 4,
 "nbformat_minor": 5
}
