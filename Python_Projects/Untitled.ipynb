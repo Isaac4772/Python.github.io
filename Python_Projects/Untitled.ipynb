{
 "cells": [
  {
   "cell_type": "code",
   "execution_count": 1,
   "id": "6e66b225",
   "metadata": {},
   "outputs": [
    {
     "data": {
      "text/plain": [
       "(0.5454545454545454, 2.560316847491615e-29, 0.24300281490972486)"
      ]
     },
     "execution_count": 1,
     "metadata": {},
     "output_type": "execute_result"
    }
   ],
   "source": [
    "def L2(x,n):\n",
    "    x = float(x)\n",
    "    s = 0 \n",
    "    for i in range(1,n+1):\n",
    "        s += (1.0/i)*(x/(1+x))**i\n",
    "        value_of_sum = s \n",
    "        first_neglected_term = (1.0/(n+1))*(x/(1+x))**(n+1)\n",
    "        from math import log\n",
    "        exact_error = log(1+x) - value_of_sum\n",
    "        return value_of_sum , first_neglected_term , exact_error\n",
    "\n",
    "x = 1.2 ; n = 100 \n",
    "L2(x,n)"
   ]
  },
  {
   "cell_type": "code",
   "execution_count": 6,
   "id": "486e6934",
   "metadata": {},
   "outputs": [
    {
     "name": "stdout",
     "output_type": "stream",
     "text": [
      "\n",
      "x=10, ln(1+x)=2.3979\n",
      "n=1    0.909091  (next term: 4.13e-01 error:1.49e+00\n",
      "n=2    0.909091  (next term: 2.50e-01 error:1.49e+00\n",
      "n=10   0.909091  (next term: 3.19e-02 error:1.49e+00\n",
      "n=100  0.909091  (next term: 6.53e-07 error:1.49e+00\n",
      "n=500  0.909091  (next term: 3.65e-24 error:1.49e+00\n"
     ]
    }
   ],
   "source": [
    "def table(x):\n",
    "    from math import log\n",
    "    print('\\nx=%g, ln(1+x)=%g'%(x,log(1+x)))\n",
    "    for n in [1,2,10,100,500]:\n",
    "        value, next, error = L2(x,n)\n",
    "        print('n=%-4d %-10g(next term: %8.2e error:%8.2e'%(n,value,next,error))\n",
    "table(10)"
   ]
  },
  {
   "cell_type": "code",
   "execution_count": 8,
   "id": "7dbac1a4",
   "metadata": {},
   "outputs": [
    {
     "name": "stdout",
     "output_type": "stream",
     "text": [
      "1 2 True 0\n"
     ]
    }
   ],
   "source": [
    "def somefunc(arg1, arg2, kwarg1 = True, kwarg2 = 0):\n",
    "    print (arg1, arg2, kwarg1, kwarg2)\n",
    "somefunc(1,2)"
   ]
  },
  {
   "cell_type": "code",
   "execution_count": null,
   "id": "ae766822",
   "metadata": {},
   "outputs": [],
   "source": []
  },
  {
   "cell_type": "markdown",
   "id": "9b129509",
   "metadata": {},
   "source": [
    "# Math function with additional parameters"
   ]
  },
  {
   "cell_type": "code",
   "execution_count": 12,
   "id": "c06786f7",
   "metadata": {},
   "outputs": [
    {
     "name": "stdout",
     "output_type": "stream",
     "text": [
      "0.778659217806053 0.16265669081533915\n"
     ]
    }
   ],
   "source": [
    "from math import pi,exp,sin\n",
    "def f(t, A=1,a=1,omega=2*pi):\n",
    "    return A*exp(-a*t)*sin(omega*t)\n",
    "v1 = f(0.2)\n",
    "v2 = f(0.2, omega=1)\n",
    "print(v1,v2)"
   ]
  },
  {
   "cell_type": "code",
   "execution_count": 15,
   "id": "ac4595cb",
   "metadata": {},
   "outputs": [
    {
     "data": {
      "text/plain": [
       "50.0"
      ]
     },
     "execution_count": 15,
     "metadata": {},
     "output_type": "execute_result"
    }
   ],
   "source": [
    "def C2F(C):\n",
    "    \"\"\"Convert Celsius degree(C) to Fahrenheit\"\"\"\n",
    "    return (9.0/5)*C + 32\n",
    "C2F(10)"
   ]
  },
  {
   "cell_type": "code",
   "execution_count": 18,
   "id": "e9026a5c",
   "metadata": {},
   "outputs": [
    {
     "name": "stdout",
     "output_type": "stream",
     "text": [
      "h=1e-01: 44.61504\n",
      "h=1e-02: 42.02521\n",
      "h=1e-03: 42.00025\n",
      "h=1e-04: 42.00000\n",
      "h=1e-05: 41.99999\n",
      "h=1e-06: 42.00074\n",
      "h=1e-07: 41.94423\n",
      "h=1e-08: 47.73959\n",
      "h=1e-09: -666.13381\n",
      "h=1e-10: 0.00000\n",
      "h=1e-11: 0.00000\n",
      "h=1e-12: -666133814.77509\n",
      "h=1e-13: 66613381477.50939\n"
     ]
    }
   ],
   "source": [
    "def diff2(f,x,h=1E-6):\n",
    "    r= (f(x-h)-2*f(x)+f(x+h))/float(h*h)\n",
    "    return r\n",
    "def g(t):\n",
    "    return t**(-6)\n",
    "for k in range(1,14):\n",
    "    h = 10**(-k)\n",
    "    print('h=%.0e: %.5f'%(h,diff2(g,1,h)))"
   ]
  },
  {
   "cell_type": "code",
   "execution_count": 19,
   "id": "d42375db",
   "metadata": {},
   "outputs": [],
   "source": [
    "f = lambda x:x**2 - 1"
   ]
  },
  {
   "cell_type": "code",
   "execution_count": 20,
   "id": "ac391d2e",
   "metadata": {},
   "outputs": [
    {
     "data": {
      "text/plain": [
       "24"
      ]
     },
     "execution_count": 20,
     "metadata": {},
     "output_type": "execute_result"
    }
   ],
   "source": [
    "f(5)"
   ]
  },
  {
   "cell_type": "code",
   "execution_count": 24,
   "id": "a2b1db28",
   "metadata": {},
   "outputs": [
    {
     "data": {
      "text/plain": [
       "7"
      ]
     },
     "execution_count": 24,
     "metadata": {},
     "output_type": "execute_result"
    }
   ],
   "source": [
    "f = lambda x,y : x**2 - y**2\n",
    "f(4,3)"
   ]
  },
  {
   "cell_type": "code",
   "execution_count": 26,
   "id": "2266bf94",
   "metadata": {},
   "outputs": [
    {
     "name": "stdout",
     "output_type": "stream",
     "text": [
      "0.16405279912312665\n"
     ]
    }
   ],
   "source": [
    "dgdt = diff2(lambda t:t**(-6),2)\n",
    "print(dgdt)"
   ]
  },
  {
   "cell_type": "markdown",
   "id": "ea125c25",
   "metadata": {},
   "source": [
    "# Branching the flow statement"
   ]
  },
  {
   "cell_type": "code",
   "execution_count": 31,
   "id": "4d6e0542",
   "metadata": {},
   "outputs": [
    {
     "data": {
      "text/plain": [
       "0.479425538604203"
      ]
     },
     "execution_count": 31,
     "metadata": {},
     "output_type": "execute_result"
    }
   ],
   "source": [
    "from math import sin,pi\n",
    "def f(x):\n",
    "    if 0<=x<=pi:\n",
    "        return sin(x)\n",
    "    else:\n",
    "        return 0\n",
    "f(0.5)"
   ]
  },
  {
   "cell_type": "code",
   "execution_count": 34,
   "id": "f734b985",
   "metadata": {},
   "outputs": [
    {
     "data": {
      "text/plain": [
       "0.8"
      ]
     },
     "execution_count": 34,
     "metadata": {},
     "output_type": "execute_result"
    }
   ],
   "source": [
    "def N(x):\n",
    "    if x < 0:\n",
    "        return 0\n",
    "    elif 0 <= x < 1:\n",
    "        return x\n",
    "    elif 1 <= x < 2:\n",
    "        return 2 - x\n",
    "    else:\n",
    "        return 0\n",
    "N(1.2)"
   ]
  },
  {
   "cell_type": "code",
   "execution_count": 35,
   "id": "78bb9cae",
   "metadata": {},
   "outputs": [
    {
     "data": {
      "text/plain": [
       "0.8414709848078965"
      ]
     },
     "execution_count": 35,
     "metadata": {},
     "output_type": "execute_result"
    }
   ],
   "source": [
    "def f(x):\n",
    "    return (sin(x) if 0<=x<=2*pi else 0)\n",
    "f(1)"
   ]
  },
  {
   "cell_type": "code",
   "execution_count": 4,
   "id": "9877f1be",
   "metadata": {},
   "outputs": [],
   "source": [
    "def double(x):\n",
    "    return 2*x\n",
    "def test_double():\n",
    "    \"\"\"Call double(x) to check that it works\"\"\"\n",
    "    x = 4\n",
    "    expected = 8\n",
    "    computed = double(x)\n",
    "    success = computed == expected\n",
    "    msg = 'computed %s, expected %s' %(computed,expected)\n",
    "    assert success, msg\n",
    "test_double()"
   ]
  },
  {
   "cell_type": "code",
   "execution_count": 15,
   "id": "191e1f02",
   "metadata": {},
   "outputs": [
    {
     "ename": "AssertionError",
     "evalue": "8!=9",
     "output_type": "error",
     "traceback": [
      "\u001b[1;31m---------------------------------------------------------------------------\u001b[0m",
      "\u001b[1;31mAssertionError\u001b[0m                            Traceback (most recent call last)",
      "\u001b[1;32m<ipython-input-15-70a8290f55a6>\u001b[0m in \u001b[0;36m<module>\u001b[1;34m\u001b[0m\n\u001b[0;32m     10\u001b[0m         \u001b[0mmsg\u001b[0m \u001b[1;33m=\u001b[0m \u001b[1;34m'%s!=%s'\u001b[0m\u001b[1;33m%\u001b[0m\u001b[1;33m(\u001b[0m\u001b[0mcomputed\u001b[0m\u001b[1;33m,\u001b[0m\u001b[0mexpected\u001b[0m\u001b[1;33m)\u001b[0m\u001b[1;33m\u001b[0m\u001b[1;33m\u001b[0m\u001b[0m\n\u001b[0;32m     11\u001b[0m         \u001b[1;32massert\u001b[0m \u001b[0mabs\u001b[0m\u001b[1;33m(\u001b[0m\u001b[0mexpected\u001b[0m\u001b[1;33m-\u001b[0m\u001b[0mcomputed\u001b[0m\u001b[1;33m)\u001b[0m \u001b[1;33m<\u001b[0m \u001b[0mtol\u001b[0m\u001b[1;33m,\u001b[0m \u001b[0mmsg\u001b[0m\u001b[1;33m\u001b[0m\u001b[1;33m\u001b[0m\u001b[0m\n\u001b[1;32m---> 12\u001b[1;33m \u001b[0mtest_double2\u001b[0m\u001b[1;33m(\u001b[0m\u001b[1;33m)\u001b[0m\u001b[1;33m\u001b[0m\u001b[1;33m\u001b[0m\u001b[0m\n\u001b[0m",
      "\u001b[1;32m<ipython-input-15-70a8290f55a6>\u001b[0m in \u001b[0;36mtest_double2\u001b[1;34m()\u001b[0m\n\u001b[0;32m      9\u001b[0m         \u001b[0mcomputed\u001b[0m \u001b[1;33m=\u001b[0m \u001b[0mdouble2\u001b[0m\u001b[1;33m(\u001b[0m\u001b[0mx\u001b[0m\u001b[1;33m)\u001b[0m\u001b[1;33m\u001b[0m\u001b[1;33m\u001b[0m\u001b[0m\n\u001b[0;32m     10\u001b[0m         \u001b[0mmsg\u001b[0m \u001b[1;33m=\u001b[0m \u001b[1;34m'%s!=%s'\u001b[0m\u001b[1;33m%\u001b[0m\u001b[1;33m(\u001b[0m\u001b[0mcomputed\u001b[0m\u001b[1;33m,\u001b[0m\u001b[0mexpected\u001b[0m\u001b[1;33m)\u001b[0m\u001b[1;33m\u001b[0m\u001b[1;33m\u001b[0m\u001b[0m\n\u001b[1;32m---> 11\u001b[1;33m         \u001b[1;32massert\u001b[0m \u001b[0mabs\u001b[0m\u001b[1;33m(\u001b[0m\u001b[0mexpected\u001b[0m\u001b[1;33m-\u001b[0m\u001b[0mcomputed\u001b[0m\u001b[1;33m)\u001b[0m \u001b[1;33m<\u001b[0m \u001b[0mtol\u001b[0m\u001b[1;33m,\u001b[0m \u001b[0mmsg\u001b[0m\u001b[1;33m\u001b[0m\u001b[1;33m\u001b[0m\u001b[0m\n\u001b[0m\u001b[0;32m     12\u001b[0m \u001b[0mtest_double2\u001b[0m\u001b[1;33m(\u001b[0m\u001b[1;33m)\u001b[0m\u001b[1;33m\u001b[0m\u001b[1;33m\u001b[0m\u001b[0m\n",
      "\u001b[1;31mAssertionError\u001b[0m: 8!=9"
     ]
    }
   ],
   "source": [
    "def double2(x):\n",
    "    return 2*x\n",
    "def test_double2():\n",
    "    \"\"\"Call double2(x) to check that it works\"\"\"\n",
    "    tol = 1E-14\n",
    "    x_values = [3,7,-2,0,4,5]\n",
    "    expected_values = [6,14,-4,0,9]\n",
    "    for x,expected in zip(x_values,expected_values):\n",
    "        computed = double2(x)\n",
    "        msg = '%s!=%s'%(computed,expected)\n",
    "        assert abs(expected-computed) < tol, msg\n",
    "test_double2()"
   ]
  },
  {
   "cell_type": "markdown",
   "id": "3cfb6cf7",
   "metadata": {},
   "source": [
    "# Exercise 3.1 F2C.py"
   ]
  },
  {
   "cell_type": "code",
   "execution_count": 17,
   "id": "f92c83c1",
   "metadata": {},
   "outputs": [
    {
     "name": "stdout",
     "output_type": "stream",
     "text": [
      "5.8765 Equals 5.8765\n"
     ]
    }
   ],
   "source": [
    "def C(F):\n",
    "    return (5/9)*(F-32)\n",
    "def F(C):\n",
    "    return C*(9/5)+32\n",
    "tol = 1E-14\n",
    "c = 5\n",
    "computed = C(F(c))\n",
    "success = abs(c-computed)<tol\n",
    "if success:\n",
    "    print ('%s Equals %s'%(computed,c))\n",
    "else:\n",
    "    print('Error')"
   ]
  },
  {
   "cell_type": "markdown",
   "id": "978cf63f",
   "metadata": {},
   "source": [
    "# Exercises 3.2 sum_func.py"
   ]
  },
  {
   "cell_type": "code",
   "execution_count": 20,
   "id": "abede576",
   "metadata": {},
   "outputs": [],
   "source": [
    "def sum_1k(M):\n",
    "    s= 0\n",
    "    for k in range(1,M+1):\n",
    "        s += 1/k\n",
    "    return s\n",
    "sum_1k(3)\n",
    "\n",
    "def test_sum_1k():\n",
    "    tol = 1E-14\n",
    "    m = 3\n",
    "    expected = 1.8333333333333333\n",
    "    computed = sum_1k(m)\n",
    "    msg = 'computed %s != expected %s' %(computed,expected)\n",
    "    assert abs(expected-computed) < tol,msg\n",
    "test_sum_1k()"
   ]
  },
  {
   "cell_type": "code",
   "execution_count": null,
   "id": "fc325291",
   "metadata": {},
   "outputs": [],
   "source": [
    "\n"
   ]
  }
 ],
 "metadata": {
  "kernelspec": {
   "display_name": "Python 3",
   "language": "python",
   "name": "python3"
  },
  "language_info": {
   "codemirror_mode": {
    "name": "ipython",
    "version": 3
   },
   "file_extension": ".py",
   "mimetype": "text/x-python",
   "name": "python",
   "nbconvert_exporter": "python",
   "pygments_lexer": "ipython3",
   "version": "3.8.8"
  }
 },
 "nbformat": 4,
 "nbformat_minor": 5
}
