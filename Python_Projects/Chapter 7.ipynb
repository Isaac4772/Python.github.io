{
 "cells": [
  {
   "cell_type": "code",
   "execution_count": 2,
   "id": "8e6f910a",
   "metadata": {},
   "outputs": [],
   "source": [
    "class Student:\n",
    "    def __init__(self, name):\n",
    "        self.name = name\n",
    "    def dump(self):\n",
    "        print('Student name is ',self.name)"
   ]
  },
  {
   "cell_type": "code",
   "execution_count": 3,
   "id": "6b0e62cf",
   "metadata": {},
   "outputs": [],
   "source": [
    "s1 = Student('Mg Mg')"
   ]
  },
  {
   "cell_type": "code",
   "execution_count": 4,
   "id": "ab31f47d",
   "metadata": {},
   "outputs": [
    {
     "name": "stdout",
     "output_type": "stream",
     "text": [
      "Student name is  Mg Mg\n"
     ]
    }
   ],
   "source": [
    "s1.dump()"
   ]
  },
  {
   "cell_type": "code",
   "execution_count": 5,
   "id": "6999a8ac",
   "metadata": {},
   "outputs": [
    {
     "data": {
      "text/plain": [
       "'Mg Mg'"
      ]
     },
     "execution_count": 5,
     "metadata": {},
     "output_type": "execute_result"
    }
   ],
   "source": [
    "s1.name"
   ]
  },
  {
   "cell_type": "code",
   "execution_count": 6,
   "id": "8764c9b7",
   "metadata": {},
   "outputs": [],
   "source": [
    "s2 = Student('Aye Aye')"
   ]
  },
  {
   "cell_type": "code",
   "execution_count": 7,
   "id": "ff85d5a2",
   "metadata": {},
   "outputs": [
    {
     "name": "stdout",
     "output_type": "stream",
     "text": [
      "Student name is  Aye Aye\n"
     ]
    }
   ],
   "source": [
    "s2.dump()"
   ]
  },
  {
   "cell_type": "code",
   "execution_count": 8,
   "id": "8412a9bb",
   "metadata": {},
   "outputs": [
    {
     "data": {
      "text/plain": [
       "'Aye Aye'"
      ]
     },
     "execution_count": 8,
     "metadata": {},
     "output_type": "execute_result"
    }
   ],
   "source": [
    "s2.name"
   ]
  },
  {
   "cell_type": "markdown",
   "id": "6e859556",
   "metadata": {},
   "source": [
    "# Class Example : A bank Account"
   ]
  },
  {
   "cell_type": "code",
   "execution_count": 9,
   "id": "5b496401",
   "metadata": {},
   "outputs": [],
   "source": [
    "class Account:\n",
    "    def __init__(self, name, account_number, initial_amount):\n",
    "        self.name = name\n",
    "        self.no = account_number\n",
    "        self.balance = initial_amount\n",
    "    def deposit(self, amount):\n",
    "        self.balance += amount\n",
    "    def withdraw(self, amount):\n",
    "        self.balance -= amount\n",
    "    def dump(self):\n",
    "        s = '%s, %s balance: %s'%(self.name, self.no, self.balance)\n",
    "        print(s)"
   ]
  },
  {
   "cell_type": "code",
   "execution_count": 10,
   "id": "f7a2a8ef",
   "metadata": {},
   "outputs": [],
   "source": [
    "mgmg = Account('Mg Mg', '12345', 20000)"
   ]
  },
  {
   "cell_type": "code",
   "execution_count": 11,
   "id": "224589f3",
   "metadata": {},
   "outputs": [
    {
     "data": {
      "text/plain": [
       "'Mg Mg'"
      ]
     },
     "execution_count": 11,
     "metadata": {},
     "output_type": "execute_result"
    }
   ],
   "source": [
    "mgmg.name"
   ]
  },
  {
   "cell_type": "code",
   "execution_count": 12,
   "id": "27e83c79",
   "metadata": {},
   "outputs": [
    {
     "data": {
      "text/plain": [
       "'12345'"
      ]
     },
     "execution_count": 12,
     "metadata": {},
     "output_type": "execute_result"
    }
   ],
   "source": [
    "mgmg.no"
   ]
  },
  {
   "cell_type": "code",
   "execution_count": 13,
   "id": "45af2550",
   "metadata": {},
   "outputs": [
    {
     "data": {
      "text/plain": [
       "20000"
      ]
     },
     "execution_count": 13,
     "metadata": {},
     "output_type": "execute_result"
    }
   ],
   "source": [
    "mgmg.balance"
   ]
  },
  {
   "cell_type": "code",
   "execution_count": 14,
   "id": "0f724a7f",
   "metadata": {},
   "outputs": [],
   "source": [
    "mgmg.deposit(30000)"
   ]
  },
  {
   "cell_type": "code",
   "execution_count": 15,
   "id": "a18f9d92",
   "metadata": {},
   "outputs": [
    {
     "data": {
      "text/plain": [
       "50000"
      ]
     },
     "execution_count": 15,
     "metadata": {},
     "output_type": "execute_result"
    }
   ],
   "source": [
    "mgmg.balance"
   ]
  },
  {
   "cell_type": "code",
   "execution_count": 16,
   "id": "6cf6fac4",
   "metadata": {},
   "outputs": [],
   "source": [
    "mgmg.withdraw(20000)"
   ]
  },
  {
   "cell_type": "code",
   "execution_count": 17,
   "id": "23f817f0",
   "metadata": {},
   "outputs": [
    {
     "data": {
      "text/plain": [
       "30000"
      ]
     },
     "execution_count": 17,
     "metadata": {},
     "output_type": "execute_result"
    }
   ],
   "source": [
    "mgmg.balance"
   ]
  },
  {
   "cell_type": "code",
   "execution_count": 18,
   "id": "a9ad64eb",
   "metadata": {},
   "outputs": [
    {
     "name": "stdout",
     "output_type": "stream",
     "text": [
      "Mg Mg, 12345 balance: 20000\n"
     ]
    }
   ],
   "source": [
    "mgmg = Account('Mg Mg', '12345', 20000)\n",
    "mgmg.dump()"
   ]
  },
  {
   "cell_type": "code",
   "execution_count": 19,
   "id": "345dedfc",
   "metadata": {},
   "outputs": [],
   "source": [
    "class Person:\n",
    "    def __init__(self, name, mobile_phone = None, office_phone = None, private_phone = None, email = None):\n",
    "        self.name = name\n",
    "        self.mobile= mobile_phone\n",
    "        self.office = office_phone\n",
    "        self.private = private_phone\n",
    "        self.email = email\n",
    "        \n",
    "    def add_mobile_phone(self, number):\n",
    "        self.mobile = number\n",
    "    def add_office_phone(self,number):\n",
    "        self.office = number\n",
    "    def add_private_phone(self, number):\n",
    "        self.private = number\n",
    "    def add_email(self, email):\n",
    "        self.email = email\n",
    "    def dump(self):\n",
    "        s = \"Name: %s\\nMobile Phone: %s\\nOffice Phone: %s\\nPrivate Phone: %s\\nEmail: %s\" %(self.name, self.mobile, self.office, self.private, self.email)\n",
    "        print(s)"
   ]
  },
  {
   "cell_type": "code",
   "execution_count": 20,
   "id": "e0c3b084",
   "metadata": {},
   "outputs": [],
   "source": [
    "u_mg = Person('U Mg Mg')"
   ]
  },
  {
   "cell_type": "code",
   "execution_count": 21,
   "id": "7a26b93b",
   "metadata": {},
   "outputs": [
    {
     "data": {
      "text/plain": [
       "'U Mg Mg'"
      ]
     },
     "execution_count": 21,
     "metadata": {},
     "output_type": "execute_result"
    }
   ],
   "source": [
    "u_mg.name"
   ]
  },
  {
   "cell_type": "code",
   "execution_count": 22,
   "id": "44a67400",
   "metadata": {},
   "outputs": [],
   "source": [
    "u_mg.add_mobile_phone('09774511562')"
   ]
  },
  {
   "cell_type": "code",
   "execution_count": 23,
   "id": "dcc6946e",
   "metadata": {},
   "outputs": [
    {
     "data": {
      "text/plain": [
       "'09774511562'"
      ]
     },
     "execution_count": 23,
     "metadata": {},
     "output_type": "execute_result"
    }
   ],
   "source": [
    "u_mg.mobile"
   ]
  },
  {
   "cell_type": "code",
   "execution_count": 24,
   "id": "0aaf0c40",
   "metadata": {},
   "outputs": [
    {
     "name": "stdout",
     "output_type": "stream",
     "text": [
      "Name: U Mg Mg\n",
      "Mobile Phone: 09774511562\n",
      "Office Phone: None\n",
      "Private Phone: None\n",
      "Email: None\n"
     ]
    }
   ],
   "source": [
    "u_mg.dump()"
   ]
  },
  {
   "cell_type": "code",
   "execution_count": 25,
   "id": "f2d3af76",
   "metadata": {},
   "outputs": [
    {
     "name": "stdout",
     "output_type": "stream",
     "text": [
      "<__main__.Person object at 0x000002833CE233D0>\n"
     ]
    }
   ],
   "source": [
    "print(u_mg)"
   ]
  },
  {
   "cell_type": "markdown",
   "id": "d9484508",
   "metadata": {},
   "source": [
    "# Sepecial Methods"
   ]
  },
  {
   "cell_type": "code",
   "execution_count": 38,
   "id": "208105e0",
   "metadata": {},
   "outputs": [],
   "source": [
    "class Test():\n",
    "    def __init__(self, name):\n",
    "        self.name = name\n",
    "    def __call__(self, salary):\n",
    "        return salary*0.05\n",
    "    def __repr__(self):\n",
    "        return \"Object is: %s\"%self.name\n",
    "    def __str__(self):\n",
    "        return 'This is Test Object for: %s'%self.name\n",
    "t1 = Test('Mg Yan')"
   ]
  },
  {
   "cell_type": "code",
   "execution_count": 39,
   "id": "ef03ea2d",
   "metadata": {},
   "outputs": [
    {
     "data": {
      "text/plain": [
       "'Mg Yan'"
      ]
     },
     "execution_count": 39,
     "metadata": {},
     "output_type": "execute_result"
    }
   ],
   "source": [
    "t1.name"
   ]
  },
  {
   "cell_type": "code",
   "execution_count": 40,
   "id": "cc2d4ff9",
   "metadata": {},
   "outputs": [],
   "source": [
    "tax = t1(230000)"
   ]
  },
  {
   "cell_type": "code",
   "execution_count": 41,
   "id": "76a23f03",
   "metadata": {},
   "outputs": [
    {
     "data": {
      "text/plain": [
       "11500.0"
      ]
     },
     "execution_count": 41,
     "metadata": {},
     "output_type": "execute_result"
    }
   ],
   "source": [
    "tax"
   ]
  },
  {
   "cell_type": "code",
   "execution_count": 42,
   "id": "ac1b7845",
   "metadata": {},
   "outputs": [
    {
     "name": "stdout",
     "output_type": "stream",
     "text": [
      "This is Test Object for: Mg Yan\n"
     ]
    }
   ],
   "source": [
    "print(t1)"
   ]
  },
  {
   "cell_type": "code",
   "execution_count": 43,
   "id": "53a9a947",
   "metadata": {},
   "outputs": [
    {
     "name": "stdout",
     "output_type": "stream",
     "text": [
      "5\n"
     ]
    }
   ],
   "source": [
    "print(int.__add__(2,3))"
   ]
  },
  {
   "cell_type": "code",
   "execution_count": 46,
   "id": "37b57c91",
   "metadata": {},
   "outputs": [],
   "source": [
    "class Employee:\n",
    "    def __init__(self, name, salary):\n",
    "        self.name = name\n",
    "        self.salary = salary\n",
    "    def __add__(self, other):\n",
    "        return self.salary + other.salary\n",
    "emp_1 = Employee('Mg Mg', 250000)\n",
    "emp_2 = Employee('Ag Ag', 350000)"
   ]
  },
  {
   "cell_type": "code",
   "execution_count": 47,
   "id": "a7a4fc80",
   "metadata": {},
   "outputs": [
    {
     "data": {
      "text/plain": [
       "600000"
      ]
     },
     "execution_count": 47,
     "metadata": {},
     "output_type": "execute_result"
    }
   ],
   "source": [
    "emp_1 + emp_2"
   ]
  },
  {
   "cell_type": "code",
   "execution_count": null,
   "id": "42701c5f",
   "metadata": {},
   "outputs": [],
   "source": []
  }
 ],
 "metadata": {
  "kernelspec": {
   "display_name": "Python 3",
   "language": "python",
   "name": "python3"
  },
  "language_info": {
   "codemirror_mode": {
    "name": "ipython",
    "version": 3
   },
   "file_extension": ".py",
   "mimetype": "text/x-python",
   "name": "python",
   "nbconvert_exporter": "python",
   "pygments_lexer": "ipython3",
   "version": "3.8.8"
  }
 },
 "nbformat": 4,
 "nbformat_minor": 5
}
