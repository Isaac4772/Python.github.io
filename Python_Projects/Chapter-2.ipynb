{
 "cells": [
  {
   "cell_type": "markdown",
   "id": "3d02b322",
   "metadata": {},
   "source": [
    "### Chapter 2: Loops and lists"
   ]
  },
  {
   "cell_type": "code",
   "execution_count": 3,
   "id": "52546e1d",
   "metadata": {},
   "outputs": [
    {
     "name": "stdout",
     "output_type": "stream",
     "text": [
      "Introducing Jupyter Notebook\n"
     ]
    }
   ],
   "source": [
    "print('Introducing Jupyter Notebook')"
   ]
  },
  {
   "cell_type": "code",
   "execution_count": 9,
   "id": "a49fef4c",
   "metadata": {},
   "outputs": [
    {
     "name": "stdout",
     "output_type": "stream",
     "text": [
      "----------------------------\n",
      "-20.0,  -4.0\n",
      "-15.0,   5.0\n",
      "-10.0,  14.0\n",
      " -5.0,  23.0\n",
      "  0.0,  32.0\n",
      "  5.0,  41.0\n",
      " 10.0,  50.0\n",
      " 15.0,  59.0\n",
      " 20.0,  68.0\n",
      " 25.0,  77.0\n",
      " 30.0,  86.0\n",
      " 35.0,  95.0\n",
      " 40.0, 104.0\n",
      "----------------------------\n"
     ]
    }
   ],
   "source": [
    "print('----------------------------')\n",
    "C = -20\n",
    "dC = 5\n",
    "while C<=40:\n",
    "    F = 9/5*C + 32\n",
    "    print('%5.1F,%6.1F'%(C,F))\n",
    "    C = C + dC\n",
    "print('----------------------------')"
   ]
  },
  {
   "cell_type": "markdown",
   "id": "7b346774",
   "metadata": {},
   "source": [
    "### List : Collection of python objects"
   ]
  },
  {
   "cell_type": "code",
   "execution_count": 19,
   "id": "2ed8bece",
   "metadata": {},
   "outputs": [],
   "source": []
  },
  {
   "cell_type": "code",
   "execution_count": 21,
   "id": "8e0eb98f",
   "metadata": {},
   "outputs": [
    {
     "data": {
      "text/plain": [
       "8"
      ]
     },
     "execution_count": 21,
     "metadata": {},
     "output_type": "execute_result"
    }
   ],
   "source": [
    "len(C)"
   ]
  },
  {
   "cell_type": "code",
   "execution_count": 22,
   "id": "70c58bc5",
   "metadata": {},
   "outputs": [
    {
     "data": {
      "text/plain": [
       "-15"
      ]
     },
     "execution_count": 22,
     "metadata": {},
     "output_type": "execute_result"
    }
   ],
   "source": [
    "C[1]"
   ]
  },
  {
   "cell_type": "code",
   "execution_count": 24,
   "id": "11afd00b",
   "metadata": {},
   "outputs": [
    {
     "data": {
      "text/plain": [
       "20"
      ]
     },
     "execution_count": 24,
     "metadata": {},
     "output_type": "execute_result"
    }
   ],
   "source": [
    "C[7]"
   ]
  },
  {
   "cell_type": "code",
   "execution_count": 28,
   "id": "ab3aaa71",
   "metadata": {},
   "outputs": [],
   "source": [
    "l1 = [-91, 'a string', 5.6, -12]"
   ]
  },
  {
   "cell_type": "code",
   "execution_count": 29,
   "id": "6ce5c725",
   "metadata": {},
   "outputs": [
    {
     "data": {
      "text/plain": [
       "5.6"
      ]
     },
     "execution_count": 29,
     "metadata": {},
     "output_type": "execute_result"
    }
   ],
   "source": [
    "l1[2]"
   ]
  },
  {
   "cell_type": "markdown",
   "id": "52e58c15",
   "metadata": {},
   "source": [
    "### List Operations"
   ]
  },
  {
   "cell_type": "code",
   "execution_count": 43,
   "id": "82a918b6",
   "metadata": {},
   "outputs": [],
   "source": [
    "C = [-20, -15, -10, -5, 0, 10, 15, 20]"
   ]
  },
  {
   "cell_type": "code",
   "execution_count": 44,
   "id": "f4267a0d",
   "metadata": {},
   "outputs": [
    {
     "data": {
      "text/plain": [
       "[-20, -15, -10, -5, 0, 10, 15, 20]"
      ]
     },
     "execution_count": 44,
     "metadata": {},
     "output_type": "execute_result"
    }
   ],
   "source": [
    "C"
   ]
  },
  {
   "cell_type": "code",
   "execution_count": 45,
   "id": "ae7dcbd3",
   "metadata": {},
   "outputs": [
    {
     "data": {
      "text/plain": [
       "8"
      ]
     },
     "execution_count": 45,
     "metadata": {},
     "output_type": "execute_result"
    }
   ],
   "source": [
    "len(C)"
   ]
  },
  {
   "cell_type": "code",
   "execution_count": 46,
   "id": "018c5049",
   "metadata": {},
   "outputs": [],
   "source": [
    "C.append(25)"
   ]
  },
  {
   "cell_type": "code",
   "execution_count": 47,
   "id": "67542c69",
   "metadata": {},
   "outputs": [],
   "source": [
    "C += [30, 35]"
   ]
  },
  {
   "cell_type": "code",
   "execution_count": 48,
   "id": "8e236a84",
   "metadata": {},
   "outputs": [
    {
     "data": {
      "text/plain": [
       "[-20, -15, -10, -5, 0, 10, 15, 20, 25, 30, 35]"
      ]
     },
     "execution_count": 48,
     "metadata": {},
     "output_type": "execute_result"
    }
   ],
   "source": [
    "C"
   ]
  },
  {
   "cell_type": "code",
   "execution_count": 50,
   "id": "2abbbc5b",
   "metadata": {},
   "outputs": [],
   "source": [
    "C.insert(0,5)"
   ]
  },
  {
   "cell_type": "code",
   "execution_count": 51,
   "id": "80e13a7c",
   "metadata": {},
   "outputs": [
    {
     "data": {
      "text/plain": [
       "[5, -20, -15, -10, -5, 0, 10, 15, 20, 25, 30, 35]"
      ]
     },
     "execution_count": 51,
     "metadata": {},
     "output_type": "execute_result"
    }
   ],
   "source": [
    "C"
   ]
  },
  {
   "cell_type": "code",
   "execution_count": 53,
   "id": "0efb4546",
   "metadata": {},
   "outputs": [],
   "source": [
    "C.insert( 5,'five')"
   ]
  },
  {
   "cell_type": "code",
   "execution_count": 62,
   "id": "58913144",
   "metadata": {
    "scrolled": true
   },
   "outputs": [
    {
     "data": {
      "text/plain": [
       "[5, -20, -15, -10, -5, 'five', 0, 10, 15, 20, 25, 30, 35]"
      ]
     },
     "execution_count": 62,
     "metadata": {},
     "output_type": "execute_result"
    }
   ],
   "source": [
    "C"
   ]
  },
  {
   "cell_type": "markdown",
   "id": "3503f50e",
   "metadata": {},
   "source": [
    "### List Operation: searching and negative indexing"
   ]
  },
  {
   "cell_type": "code",
   "execution_count": 57,
   "id": "d6fa177f",
   "metadata": {},
   "outputs": [
    {
     "data": {
      "text/plain": [
       "[5, -20, -15, -10, -5, 'five', 0, 10, 15, 20, 25, 30, 35]"
      ]
     },
     "execution_count": 57,
     "metadata": {},
     "output_type": "execute_result"
    }
   ],
   "source": [
    "C"
   ]
  },
  {
   "cell_type": "code",
   "execution_count": 58,
   "id": "2f711f1b",
   "metadata": {
    "scrolled": true
   },
   "outputs": [
    {
     "data": {
      "text/plain": [
       "7"
      ]
     },
     "execution_count": 58,
     "metadata": {},
     "output_type": "execute_result"
    }
   ],
   "source": [
    "C.index(10)"
   ]
  },
  {
   "cell_type": "code",
   "execution_count": 59,
   "id": "26b8f72d",
   "metadata": {},
   "outputs": [
    {
     "data": {
      "text/plain": [
       "True"
      ]
     },
     "execution_count": 59,
     "metadata": {},
     "output_type": "execute_result"
    }
   ],
   "source": [
    "10 in C"
   ]
  },
  {
   "cell_type": "code",
   "execution_count": 60,
   "id": "c4845a1e",
   "metadata": {},
   "outputs": [
    {
     "data": {
      "text/plain": [
       "[5, -20, -15, -10, -5, 'five', 0, 10, 15, 20, 25, 30, 35]"
      ]
     },
     "execution_count": 60,
     "metadata": {},
     "output_type": "execute_result"
    }
   ],
   "source": [
    "C"
   ]
  },
  {
   "cell_type": "code",
   "execution_count": 61,
   "id": "9545895a",
   "metadata": {},
   "outputs": [
    {
     "data": {
      "text/plain": [
       "13"
      ]
     },
     "execution_count": 61,
     "metadata": {},
     "output_type": "execute_result"
    }
   ],
   "source": [
    "len(C)"
   ]
  },
  {
   "cell_type": "code",
   "execution_count": 65,
   "id": "e8da9e52",
   "metadata": {},
   "outputs": [
    {
     "data": {
      "text/plain": [
       "35"
      ]
     },
     "execution_count": 65,
     "metadata": {},
     "output_type": "execute_result"
    }
   ],
   "source": [
    "C[12]"
   ]
  },
  {
   "cell_type": "code",
   "execution_count": 66,
   "id": "46c4361f",
   "metadata": {},
   "outputs": [
    {
     "data": {
      "text/plain": [
       "35"
      ]
     },
     "execution_count": 66,
     "metadata": {},
     "output_type": "execute_result"
    }
   ],
   "source": [
    "C[-1]"
   ]
  },
  {
   "cell_type": "markdown",
   "id": "dd870810",
   "metadata": {},
   "source": [
    "### Loop over element with for loop"
   ]
  },
  {
   "cell_type": "code",
   "execution_count": 67,
   "id": "2247e22d",
   "metadata": {},
   "outputs": [
    {
     "data": {
      "text/plain": [
       "[5, -20, -15, -10, -5, 'five', 0, 10, 15, 20, 25, 30, 35]"
      ]
     },
     "execution_count": 67,
     "metadata": {},
     "output_type": "execute_result"
    }
   ],
   "source": [
    "C"
   ]
  },
  {
   "cell_type": "code",
   "execution_count": 69,
   "id": "548a6ff6",
   "metadata": {},
   "outputs": [
    {
     "name": "stdout",
     "output_type": "stream",
     "text": [
      "Celsius:  -15\n",
      "Farenheit 5.0\n",
      "Celsius:  -10\n",
      "Farenheit 14.0\n",
      "Celsius:  -5\n",
      "Farenheit 23.0\n",
      "Celsius:  10\n",
      "Farenheit 50.0\n",
      "Celsius:  15\n",
      "Farenheit 59.0\n",
      "Celsius:  20\n",
      "Farenheit 68.0\n",
      "Celsius:  25\n",
      "Farenheit 77.0\n",
      "Celsius:  30\n",
      "Farenheit 86.0\n",
      "degrees list has 8 elements\n"
     ]
    }
   ],
   "source": [
    "degrees = [-15, -10, -5, 10, 15, 20, 25, 30]\n",
    "for C in degrees:\n",
    "    print('Celsius: ', C)\n",
    "    F = 9/5*C + 32\n",
    "    print('Farenheit', F)\n",
    "print('degrees list has',len(degrees),'elements')"
   ]
  },
  {
   "cell_type": "code",
   "execution_count": 71,
   "id": "6a74c378",
   "metadata": {},
   "outputs": [
    {
     "name": "stdout",
     "output_type": "stream",
     "text": [
      "5 41.0\n",
      "-20 -4.0\n",
      "-15 5.0\n",
      "-10 14.0\n",
      "-5 23.0\n",
      "0 32.0\n",
      "10 50.0\n",
      "15 59.0\n",
      "20 68.0\n",
      "25 77.0\n",
      "30 86.0\n",
      "35 95.0\n"
     ]
    }
   ],
   "source": [
    "Cdegree = [5, -20, -15, -10, -5, 0, 10, 15, 20, 25, 30, 35];\n",
    "for C in Cdegree:\n",
    "    F = 9/5 * C + 32\n",
    "    print(C,F)"
   ]
  },
  {
   "cell_type": "code",
   "execution_count": 79,
   "id": "1c98f937",
   "metadata": {},
   "outputs": [
    {
     "name": "stdout",
     "output_type": "stream",
     "text": [
      "    5,  41.0\n",
      "  -20,  -4.0\n",
      "  -15,   5.0\n",
      "  -10,  14.0\n",
      "   -5,  23.0\n",
      "    0,  32.0\n",
      "   10,  50.0\n",
      "   15,  59.0\n",
      "   20,  68.0\n",
      "   25,  77.0\n",
      "   30,  86.0\n",
      "   35,  95.0\n"
     ]
    }
   ],
   "source": [
    "i = 0\n",
    "while i < len(Cdegree):\n",
    "    C = Cdegree[i]\n",
    "    F = 9/5 * C + 32\n",
    "    print('%5d, %5.1f'%(C,F))\n",
    "    i+=1"
   ]
  },
  {
   "cell_type": "code",
   "execution_count": 1,
   "id": "a16e65c8",
   "metadata": {},
   "outputs": [],
   "source": [
    "A = [3, 4 , 5, 6, 7, 8]"
   ]
  },
  {
   "cell_type": "code",
   "execution_count": 2,
   "id": "faedc276",
   "metadata": {},
   "outputs": [],
   "source": [
    "B = A[1:3]"
   ]
  },
  {
   "cell_type": "code",
   "execution_count": 3,
   "id": "871a1e0e",
   "metadata": {},
   "outputs": [
    {
     "name": "stdout",
     "output_type": "stream",
     "text": [
      "[4, 5]\n"
     ]
    }
   ],
   "source": [
    "print(B)"
   ]
  },
  {
   "cell_type": "code",
   "execution_count": 1,
   "id": "6097b6dc",
   "metadata": {},
   "outputs": [],
   "source": [
    "A = [3,8,5,10,35]"
   ]
  },
  {
   "cell_type": "code",
   "execution_count": 2,
   "id": "f9067afb",
   "metadata": {},
   "outputs": [
    {
     "data": {
      "text/plain": [
       "[8, 5]"
      ]
     },
     "execution_count": 2,
     "metadata": {},
     "output_type": "execute_result"
    }
   ],
   "source": [
    "A[1:3]"
   ]
  },
  {
   "cell_type": "code",
   "execution_count": 3,
   "id": "b7d090e5",
   "metadata": {},
   "outputs": [
    {
     "data": {
      "text/plain": [
       "[8, 5, 10, 35]"
      ]
     },
     "execution_count": 3,
     "metadata": {},
     "output_type": "execute_result"
    }
   ],
   "source": [
    "A[1:]"
   ]
  },
  {
   "cell_type": "code",
   "execution_count": 4,
   "id": "54226795",
   "metadata": {},
   "outputs": [
    {
     "data": {
      "text/plain": [
       "[3, 8, 5]"
      ]
     },
     "execution_count": 4,
     "metadata": {},
     "output_type": "execute_result"
    }
   ],
   "source": [
    "A[:3]"
   ]
  },
  {
   "cell_type": "code",
   "execution_count": 5,
   "id": "6f34ee7e",
   "metadata": {},
   "outputs": [
    {
     "data": {
      "text/plain": [
       "[8, 5]"
      ]
     },
     "execution_count": 5,
     "metadata": {},
     "output_type": "execute_result"
    }
   ],
   "source": [
    "A[1:-2]"
   ]
  },
  {
   "cell_type": "code",
   "execution_count": 6,
   "id": "0a0f3ecf",
   "metadata": {},
   "outputs": [],
   "source": [
    "def printHello():\n",
    "    print(\"Hello\")\n"
   ]
  },
  {
   "cell_type": "code",
   "execution_count": 7,
   "id": "b9d551c7",
   "metadata": {},
   "outputs": [
    {
     "name": "stdout",
     "output_type": "stream",
     "text": [
      "Hello\n"
     ]
    }
   ],
   "source": [
    "printHello()"
   ]
  },
  {
   "cell_type": "code",
   "execution_count": 1,
   "id": "272268b0",
   "metadata": {},
   "outputs": [],
   "source": [
    "L = [[5,9],[1,2,3]]"
   ]
  },
  {
   "cell_type": "code",
   "execution_count": 2,
   "id": "e33a66c6",
   "metadata": {},
   "outputs": [
    {
     "data": {
      "text/plain": [
       "[[5, 9], [1, 2, 3]]"
      ]
     },
     "execution_count": 2,
     "metadata": {},
     "output_type": "execute_result"
    }
   ],
   "source": [
    "L"
   ]
  },
  {
   "cell_type": "code",
   "execution_count": 3,
   "id": "0c6c7a1c",
   "metadata": {},
   "outputs": [
    {
     "name": "stdout",
     "output_type": "stream",
     "text": [
      "5\n",
      "9\n",
      "1\n",
      "2\n",
      "3\n"
     ]
    }
   ],
   "source": [
    "for row in L:\n",
    "    for col in row:\n",
    "        print(col)"
   ]
  },
  {
   "cell_type": "code",
   "execution_count": 4,
   "id": "a9d0d04d",
   "metadata": {},
   "outputs": [],
   "source": [
    "L.append([4,5,6])"
   ]
  },
  {
   "cell_type": "code",
   "execution_count": 5,
   "id": "01a9b4df",
   "metadata": {},
   "outputs": [
    {
     "data": {
      "text/plain": [
       "[[5, 9], [1, 2, 3], [4, 5, 6]]"
      ]
     },
     "execution_count": 5,
     "metadata": {},
     "output_type": "execute_result"
    }
   ],
   "source": [
    "L"
   ]
  },
  {
   "cell_type": "code",
   "execution_count": 8,
   "id": "17a576b3",
   "metadata": {},
   "outputs": [
    {
     "data": {
      "text/plain": [
       "9"
      ]
     },
     "execution_count": 8,
     "metadata": {},
     "output_type": "execute_result"
    }
   ],
   "source": [
    "L[0][1]"
   ]
  },
  {
   "cell_type": "code",
   "execution_count": 9,
   "id": "74be4a61",
   "metadata": {},
   "outputs": [
    {
     "data": {
      "text/plain": [
       "1"
      ]
     },
     "execution_count": 9,
     "metadata": {},
     "output_type": "execute_result"
    }
   ],
   "source": [
    "L[1][0]"
   ]
  },
  {
   "cell_type": "code",
   "execution_count": 10,
   "id": "12c04c43",
   "metadata": {},
   "outputs": [
    {
     "ename": "IndexError",
     "evalue": "list index out of range",
     "output_type": "error",
     "traceback": [
      "\u001b[1;31m---------------------------------------------------------------------------\u001b[0m",
      "\u001b[1;31mIndexError\u001b[0m                                Traceback (most recent call last)",
      "\u001b[1;32m<ipython-input-10-751d98cc6a62>\u001b[0m in \u001b[0;36m<module>\u001b[1;34m\u001b[0m\n\u001b[1;32m----> 1\u001b[1;33m \u001b[0mL\u001b[0m\u001b[1;33m[\u001b[0m\u001b[1;36m3\u001b[0m\u001b[1;33m]\u001b[0m\u001b[1;33m[\u001b[0m\u001b[1;36m2\u001b[0m\u001b[1;33m]\u001b[0m\u001b[1;33m\u001b[0m\u001b[1;33m\u001b[0m\u001b[0m\n\u001b[0m",
      "\u001b[1;31mIndexError\u001b[0m: list index out of range"
     ]
    }
   ],
   "source": [
    "L[3][2]"
   ]
  },
  {
   "cell_type": "code",
   "execution_count": 11,
   "id": "c5188d4b",
   "metadata": {},
   "outputs": [
    {
     "data": {
      "text/plain": [
       "5"
      ]
     },
     "execution_count": 11,
     "metadata": {},
     "output_type": "execute_result"
    }
   ],
   "source": [
    "L[2][1]"
   ]
  },
  {
   "cell_type": "code",
   "execution_count": 13,
   "id": "34888222",
   "metadata": {},
   "outputs": [],
   "source": [
    "t = (2,4,6,\"book.pdf\")"
   ]
  },
  {
   "cell_type": "code",
   "execution_count": 14,
   "id": "1f2acc35",
   "metadata": {},
   "outputs": [
    {
     "data": {
      "text/plain": [
       "(2, 4, 6, 'book.pdf')"
      ]
     },
     "execution_count": 14,
     "metadata": {},
     "output_type": "execute_result"
    }
   ],
   "source": [
    "t"
   ]
  },
  {
   "cell_type": "code",
   "execution_count": 15,
   "id": "d460b15c",
   "metadata": {},
   "outputs": [
    {
     "data": {
      "text/plain": [
       "2"
      ]
     },
     "execution_count": 15,
     "metadata": {},
     "output_type": "execute_result"
    }
   ],
   "source": [
    "t[0]"
   ]
  },
  {
   "cell_type": "code",
   "execution_count": null,
   "id": "aa75f4b5",
   "metadata": {},
   "outputs": [],
   "source": []
  },
  {
   "cell_type": "code",
   "execution_count": null,
   "id": "1c1bd5f3",
   "metadata": {},
   "outputs": [],
   "source": []
  }
 ],
 "metadata": {
  "kernelspec": {
   "display_name": "Python 3",
   "language": "python",
   "name": "python3"
  },
  "language_info": {
   "codemirror_mode": {
    "name": "ipython",
    "version": 3
   },
   "file_extension": ".py",
   "mimetype": "text/x-python",
   "name": "python",
   "nbconvert_exporter": "python",
   "pygments_lexer": "ipython3",
   "version": "3.8.8"
  }
 },
 "nbformat": 4,
 "nbformat_minor": 5
}
